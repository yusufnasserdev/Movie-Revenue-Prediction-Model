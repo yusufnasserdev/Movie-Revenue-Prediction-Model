{
 "cells": [
  {
   "cell_type": "markdown",
   "source": [
    "# Phase 1"
   ],
   "metadata": {
    "collapsed": false
   }
  },
  {
   "cell_type": "markdown",
   "source": [
    "## Preprocessing"
   ],
   "metadata": {
    "collapsed": false
   }
  },
  {
   "cell_type": "code",
   "execution_count": 2,
   "metadata": {
    "collapsed": true
   },
   "outputs": [],
   "source": [
    "import warnings\n",
    "\n",
    "import pandas as pd\n",
    "from dateutil.parser import parse\n",
    "from tmdbv3api import Movie\n",
    "from tmdbv3api import TMDb\n",
    "\n",
    "import keys  # TMDb API key file\n",
    "\n",
    "warnings.filterwarnings(\"ignore\")"
   ]
  },
  {
   "cell_type": "markdown",
   "source": [
    "##### Reading the train datasets"
   ],
   "metadata": {
    "collapsed": false
   }
  },
  {
   "cell_type": "code",
   "execution_count": 2,
   "outputs": [],
   "source": [
    "# reading csv files\n",
    "movies_base = pd.read_csv('datasets/1/train/movies-revenue.csv')\n",
    "movies_director = pd.read_csv('datasets/1/train/movie-director.csv')"
   ],
   "metadata": {
    "collapsed": false
   }
  },
  {
   "cell_type": "markdown",
   "source": [
    "##### Checking nulls"
   ],
   "metadata": {
    "collapsed": false
   }
  },
  {
   "cell_type": "code",
   "execution_count": 3,
   "outputs": [
    {
     "data": {
      "text/plain": "name             0\nrelease_date     0\ngenre           14\nMPAA_rating     47\nrevenue          0\ndtype: int64"
     },
     "execution_count": 3,
     "metadata": {},
     "output_type": "execute_result"
    }
   ],
   "source": [
    "movies_base.isnull().sum()"
   ],
   "metadata": {
    "collapsed": false
   }
  },
  {
   "cell_type": "markdown",
   "source": [
    "##### Joining directors dataset into the movies (main) dataset"
   ],
   "metadata": {
    "collapsed": false
   }
  },
  {
   "cell_type": "code",
   "execution_count": 4,
   "outputs": [
    {
     "data": {
      "text/plain": "                            name release_date      genre MPAA_rating  \\\n0           Recess: School's Out    16-Feb-01     Comedy           G   \n1           D2: The Mighty Ducks    25-Mar-94     Comedy          PG   \n2              Home on the Range     2-Apr-04     Comedy          PG   \n3           Young Black Stallion    25-Dec-03  Adventure           G   \n4  What's Love Got to Do With It     9-Jun-93      Drama           R   \n\n        revenue   director  \n0  $54,656,124         NaN  \n1  $94,226,333         NaN  \n2  $67,910,166   Will Finn  \n3   $9,254,344         NaN  \n4  $79,618,610         NaN  ",
      "text/html": "<div>\n<style scoped>\n    .dataframe tbody tr th:only-of-type {\n        vertical-align: middle;\n    }\n\n    .dataframe tbody tr th {\n        vertical-align: top;\n    }\n\n    .dataframe thead th {\n        text-align: right;\n    }\n</style>\n<table border=\"1\" class=\"dataframe\">\n  <thead>\n    <tr style=\"text-align: right;\">\n      <th></th>\n      <th>name</th>\n      <th>release_date</th>\n      <th>genre</th>\n      <th>MPAA_rating</th>\n      <th>revenue</th>\n      <th>director</th>\n    </tr>\n  </thead>\n  <tbody>\n    <tr>\n      <th>0</th>\n      <td>Recess: School's Out</td>\n      <td>16-Feb-01</td>\n      <td>Comedy</td>\n      <td>G</td>\n      <td>$54,656,124</td>\n      <td>NaN</td>\n    </tr>\n    <tr>\n      <th>1</th>\n      <td>D2: The Mighty Ducks</td>\n      <td>25-Mar-94</td>\n      <td>Comedy</td>\n      <td>PG</td>\n      <td>$94,226,333</td>\n      <td>NaN</td>\n    </tr>\n    <tr>\n      <th>2</th>\n      <td>Home on the Range</td>\n      <td>2-Apr-04</td>\n      <td>Comedy</td>\n      <td>PG</td>\n      <td>$67,910,166</td>\n      <td>Will Finn</td>\n    </tr>\n    <tr>\n      <th>3</th>\n      <td>Young Black Stallion</td>\n      <td>25-Dec-03</td>\n      <td>Adventure</td>\n      <td>G</td>\n      <td>$9,254,344</td>\n      <td>NaN</td>\n    </tr>\n    <tr>\n      <th>4</th>\n      <td>What's Love Got to Do With It</td>\n      <td>9-Jun-93</td>\n      <td>Drama</td>\n      <td>R</td>\n      <td>$79,618,610</td>\n      <td>NaN</td>\n    </tr>\n  </tbody>\n</table>\n</div>"
     },
     "execution_count": 4,
     "metadata": {},
     "output_type": "execute_result"
    }
   ],
   "source": [
    "# Merging dataframes; how = 'left' := use only keys from left frame.\n",
    "df = pd.merge(movies_base, movies_director, on='name', how='left')\n",
    "\n",
    "# displaying result\n",
    "df.head()"
   ],
   "metadata": {
    "collapsed": false
   }
  },
  {
   "cell_type": "markdown",
   "source": [
    "##### Filling the null directors"
   ],
   "metadata": {
    "collapsed": false
   }
  },
  {
   "cell_type": "code",
   "execution_count": 5,
   "outputs": [
    {
     "data": {
      "text/plain": "name              0\nrelease_date      0\ngenre            14\nMPAA_rating      47\nrevenue           0\ndirector        428\ndtype: int64"
     },
     "execution_count": 5,
     "metadata": {},
     "output_type": "execute_result"
    }
   ],
   "source": [
    "df.isnull().sum()"
   ],
   "metadata": {
    "collapsed": false
   }
  },
  {
   "cell_type": "code",
   "execution_count": 6,
   "outputs": [
    {
     "data": {
      "text/plain": "             count unique           top freq\nname           463    460    Cinderella    2\nrelease_date   463    446      3-Mar-95    2\ngenre          449     12        Comedy  146\nMPAA_rating    416      5            PG  156\nrevenue        463    461           $0     3\ndirector        35     22  Ron Clements    6",
      "text/html": "<div>\n<style scoped>\n    .dataframe tbody tr th:only-of-type {\n        vertical-align: middle;\n    }\n\n    .dataframe tbody tr th {\n        vertical-align: top;\n    }\n\n    .dataframe thead th {\n        text-align: right;\n    }\n</style>\n<table border=\"1\" class=\"dataframe\">\n  <thead>\n    <tr style=\"text-align: right;\">\n      <th></th>\n      <th>count</th>\n      <th>unique</th>\n      <th>top</th>\n      <th>freq</th>\n    </tr>\n  </thead>\n  <tbody>\n    <tr>\n      <th>name</th>\n      <td>463</td>\n      <td>460</td>\n      <td>Cinderella</td>\n      <td>2</td>\n    </tr>\n    <tr>\n      <th>release_date</th>\n      <td>463</td>\n      <td>446</td>\n      <td>3-Mar-95</td>\n      <td>2</td>\n    </tr>\n    <tr>\n      <th>genre</th>\n      <td>449</td>\n      <td>12</td>\n      <td>Comedy</td>\n      <td>146</td>\n    </tr>\n    <tr>\n      <th>MPAA_rating</th>\n      <td>416</td>\n      <td>5</td>\n      <td>PG</td>\n      <td>156</td>\n    </tr>\n    <tr>\n      <th>revenue</th>\n      <td>463</td>\n      <td>461</td>\n      <td>$0</td>\n      <td>3</td>\n    </tr>\n    <tr>\n      <th>director</th>\n      <td>35</td>\n      <td>22</td>\n      <td>Ron Clements</td>\n      <td>6</td>\n    </tr>\n  </tbody>\n</table>\n</div>"
     },
     "execution_count": 6,
     "metadata": {},
     "output_type": "execute_result"
    }
   ],
   "source": [
    "df.describe().T"
   ],
   "metadata": {
    "collapsed": false
   }
  },
  {
   "cell_type": "code",
   "execution_count": 7,
   "outputs": [
    {
     "data": {
      "text/plain": "name            object\nrelease_date    object\ngenre           object\nMPAA_rating     object\nrevenue         object\ndirector        object\ndtype: object"
     },
     "execution_count": 7,
     "metadata": {},
     "output_type": "execute_result"
    }
   ],
   "source": [
    "df.dtypes"
   ],
   "metadata": {
    "collapsed": false
   }
  },
  {
   "cell_type": "code",
   "execution_count": 8,
   "outputs": [
    {
     "data": {
      "text/plain": "                                   name release_date      genre MPAA_rating  \\\n0                  Recess: School's Out   2001-02-16     Comedy           G   \n1                  D2: The Mighty Ducks   1994-03-25     Comedy          PG   \n2                     Home on the Range   2004-04-02     Comedy          PG   \n3                  Young Black Stallion   2003-12-25  Adventure           G   \n4         What's Love Got to Do With It   1993-06-09      Drama           R   \n5                    Lady and the Tramp   1955-06-22      Drama           G   \n6                          Corky Romano   2001-10-12     Comedy       PG-13   \n7                          The Waterboy   1998-11-06     Comedy       PG-13   \n8   Captain America: The Winter Soldier   2014-04-04     Action       PG-13   \n9  Pirates of the Caribbean: Dead Man’…   2006-07-07  Adventure       PG-13   \n\n           revenue        director  \n0     $54,656,124              NaN  \n1     $94,226,333              NaN  \n2     $67,910,166        Will Finn  \n3      $9,254,344              NaN  \n4     $79,618,610              NaN  \n5  $1,236,035,515   Hamilton Luske  \n6     $35,705,805              NaN  \n7    $288,691,833              NaN  \n8    $268,013,076              NaN  \n9    $544,817,142              NaN  ",
      "text/html": "<div>\n<style scoped>\n    .dataframe tbody tr th:only-of-type {\n        vertical-align: middle;\n    }\n\n    .dataframe tbody tr th {\n        vertical-align: top;\n    }\n\n    .dataframe thead th {\n        text-align: right;\n    }\n</style>\n<table border=\"1\" class=\"dataframe\">\n  <thead>\n    <tr style=\"text-align: right;\">\n      <th></th>\n      <th>name</th>\n      <th>release_date</th>\n      <th>genre</th>\n      <th>MPAA_rating</th>\n      <th>revenue</th>\n      <th>director</th>\n    </tr>\n  </thead>\n  <tbody>\n    <tr>\n      <th>0</th>\n      <td>Recess: School's Out</td>\n      <td>2001-02-16</td>\n      <td>Comedy</td>\n      <td>G</td>\n      <td>$54,656,124</td>\n      <td>NaN</td>\n    </tr>\n    <tr>\n      <th>1</th>\n      <td>D2: The Mighty Ducks</td>\n      <td>1994-03-25</td>\n      <td>Comedy</td>\n      <td>PG</td>\n      <td>$94,226,333</td>\n      <td>NaN</td>\n    </tr>\n    <tr>\n      <th>2</th>\n      <td>Home on the Range</td>\n      <td>2004-04-02</td>\n      <td>Comedy</td>\n      <td>PG</td>\n      <td>$67,910,166</td>\n      <td>Will Finn</td>\n    </tr>\n    <tr>\n      <th>3</th>\n      <td>Young Black Stallion</td>\n      <td>2003-12-25</td>\n      <td>Adventure</td>\n      <td>G</td>\n      <td>$9,254,344</td>\n      <td>NaN</td>\n    </tr>\n    <tr>\n      <th>4</th>\n      <td>What's Love Got to Do With It</td>\n      <td>1993-06-09</td>\n      <td>Drama</td>\n      <td>R</td>\n      <td>$79,618,610</td>\n      <td>NaN</td>\n    </tr>\n    <tr>\n      <th>5</th>\n      <td>Lady and the Tramp</td>\n      <td>1955-06-22</td>\n      <td>Drama</td>\n      <td>G</td>\n      <td>$1,236,035,515</td>\n      <td>Hamilton Luske</td>\n    </tr>\n    <tr>\n      <th>6</th>\n      <td>Corky Romano</td>\n      <td>2001-10-12</td>\n      <td>Comedy</td>\n      <td>PG-13</td>\n      <td>$35,705,805</td>\n      <td>NaN</td>\n    </tr>\n    <tr>\n      <th>7</th>\n      <td>The Waterboy</td>\n      <td>1998-11-06</td>\n      <td>Comedy</td>\n      <td>PG-13</td>\n      <td>$288,691,833</td>\n      <td>NaN</td>\n    </tr>\n    <tr>\n      <th>8</th>\n      <td>Captain America: The Winter Soldier</td>\n      <td>2014-04-04</td>\n      <td>Action</td>\n      <td>PG-13</td>\n      <td>$268,013,076</td>\n      <td>NaN</td>\n    </tr>\n    <tr>\n      <th>9</th>\n      <td>Pirates of the Caribbean: Dead Man’…</td>\n      <td>2006-07-07</td>\n      <td>Adventure</td>\n      <td>PG-13</td>\n      <td>$544,817,142</td>\n      <td>NaN</td>\n    </tr>\n  </tbody>\n</table>\n</div>"
     },
     "execution_count": 8,
     "metadata": {},
     "output_type": "execute_result"
    }
   ],
   "source": [
    "# Formatting the release_date to match the TMDb date format\n",
    "\n",
    "for i, movie in df.iterrows():\n",
    "    # Parse date from a string and return a datetime.datetime\n",
    "    release_date = parse(movie['release_date'])\n",
    "    # Remove the time from it reducing it to just the date\n",
    "    release_date = release_date.date()\n",
    "\n",
    "    # Parser doesn't do well with dates prior to the 80s\n",
    "    # Correcting the dates newer than this year to a century earlier\n",
    "    if release_date.year > 2023:\n",
    "        release_date = release_date.replace(year=release_date.year - 100)\n",
    "\n",
    "    # Editing the value at the original dataframe\n",
    "    df.at[i, 'release_date'] = release_date\n",
    "\n",
    "df['release_date'] = pd.to_datetime(df['release_date'])\n",
    "df.head(n=10)"
   ],
   "metadata": {
    "collapsed": false
   }
  },
  {
   "cell_type": "markdown",
   "source": [
    "##### Initializing TMDb API"
   ],
   "metadata": {
    "collapsed": false
   }
  },
  {
   "cell_type": "code",
   "execution_count": 9,
   "outputs": [],
   "source": [
    "# Using the TMDb to fill out the missing director from the original dataset\n",
    "\n",
    "# https://github.com/AnthonyBloomer/tmdbv3api\n",
    "# https://developers.themoviedb.org/3/getting-started/introduction\n",
    "\n",
    "# Creating a base class instance from the api library\n",
    "tmdb = TMDb()\n",
    "tmdb.api_key = keys.tmdb_key\n",
    "tmdb.language = 'en'\n",
    "tmdb.debug = True\n"
   ],
   "metadata": {
    "collapsed": false
   }
  },
  {
   "cell_type": "markdown",
   "source": [
    "##### Using the TMDb API to fill missing directors via the movie title and its release date\n",
    "Since the director name is still not encoded, the director's popularity score will replace it."
   ],
   "metadata": {
    "collapsed": false
   }
  },
  {
   "cell_type": "code",
   "execution_count": 10,
   "outputs": [],
   "source": [
    "# Creating a Movie instance to search by the movie details\n",
    "movie = Movie()\n",
    "\n",
    "for i, mov in df.iterrows():\n",
    "    search = movie.search(mov['name'])  # Search by the movie title\n",
    "    for res in search:\n",
    "        try:\n",
    "            # Confirming the search results by the release date year\n",
    "            mov_date_str = str(mov['release_date'])\n",
    "            if res['release_date'][:4] == mov_date_str[:4]:\n",
    "                # Extracting the director from the movie credits\n",
    "                for member in movie.credits(res.id)['crew']:\n",
    "                    if member['job'] == 'Director':\n",
    "                        # Editing the value at the original dataframe\n",
    "                        df.at[i, 'director'] = member['popularity']\n",
    "                        break\n",
    "                break\n",
    "        except BaseException as error:\n",
    "            print('An exception occurred: {}'.format(error) + \" \" + mov['name'])"
   ],
   "metadata": {
    "collapsed": false
   }
  },
  {
   "cell_type": "code",
   "execution_count": 11,
   "outputs": [
    {
     "data": {
      "text/plain": "name             0\nrelease_date     0\ngenre           14\nMPAA_rating     47\nrevenue          0\ndirector        26\ndtype: int64"
     },
     "execution_count": 11,
     "metadata": {},
     "output_type": "execute_result"
    }
   ],
   "source": [
    "df.isnull().sum()"
   ],
   "metadata": {
    "collapsed": false
   }
  },
  {
   "cell_type": "code",
   "execution_count": 12,
   "outputs": [
    {
     "data": {
      "text/plain": "                            name release_date      genre MPAA_rating  \\\n0           Recess: School's Out   2001-02-16     Comedy           G   \n1           D2: The Mighty Ducks   1994-03-25     Comedy          PG   \n2              Home on the Range   2004-04-02     Comedy          PG   \n3           Young Black Stallion   2003-12-25  Adventure           G   \n4  What's Love Got to Do With It   1993-06-09      Drama           R   \n\n        revenue director  \n0  $54,656,124     0.814  \n1  $94,226,333     1.048  \n2  $67,910,166     1.975  \n3   $9,254,344      4.61  \n4  $79,618,610     0.946  ",
      "text/html": "<div>\n<style scoped>\n    .dataframe tbody tr th:only-of-type {\n        vertical-align: middle;\n    }\n\n    .dataframe tbody tr th {\n        vertical-align: top;\n    }\n\n    .dataframe thead th {\n        text-align: right;\n    }\n</style>\n<table border=\"1\" class=\"dataframe\">\n  <thead>\n    <tr style=\"text-align: right;\">\n      <th></th>\n      <th>name</th>\n      <th>release_date</th>\n      <th>genre</th>\n      <th>MPAA_rating</th>\n      <th>revenue</th>\n      <th>director</th>\n    </tr>\n  </thead>\n  <tbody>\n    <tr>\n      <th>0</th>\n      <td>Recess: School's Out</td>\n      <td>2001-02-16</td>\n      <td>Comedy</td>\n      <td>G</td>\n      <td>$54,656,124</td>\n      <td>0.814</td>\n    </tr>\n    <tr>\n      <th>1</th>\n      <td>D2: The Mighty Ducks</td>\n      <td>1994-03-25</td>\n      <td>Comedy</td>\n      <td>PG</td>\n      <td>$94,226,333</td>\n      <td>1.048</td>\n    </tr>\n    <tr>\n      <th>2</th>\n      <td>Home on the Range</td>\n      <td>2004-04-02</td>\n      <td>Comedy</td>\n      <td>PG</td>\n      <td>$67,910,166</td>\n      <td>1.975</td>\n    </tr>\n    <tr>\n      <th>3</th>\n      <td>Young Black Stallion</td>\n      <td>2003-12-25</td>\n      <td>Adventure</td>\n      <td>G</td>\n      <td>$9,254,344</td>\n      <td>4.61</td>\n    </tr>\n    <tr>\n      <th>4</th>\n      <td>What's Love Got to Do With It</td>\n      <td>1993-06-09</td>\n      <td>Drama</td>\n      <td>R</td>\n      <td>$79,618,610</td>\n      <td>0.946</td>\n    </tr>\n  </tbody>\n</table>\n</div>"
     },
     "execution_count": 12,
     "metadata": {},
     "output_type": "execute_result"
    }
   ],
   "source": [
    "df.head()"
   ],
   "metadata": {
    "collapsed": false
   }
  },
  {
   "cell_type": "markdown",
   "source": [
    "##### Cleaning up the revenue to extract the float value"
   ],
   "metadata": {
    "collapsed": false
   }
  },
  {
   "cell_type": "code",
   "execution_count": 13,
   "outputs": [
    {
     "name": "stdout",
     "output_type": "stream",
     "text": [
      "name                    object\n",
      "release_date    datetime64[ns]\n",
      "genre                   object\n",
      "MPAA_rating             object\n",
      "revenue                float64\n",
      "director                object\n",
      "dtype: object\n"
     ]
    },
    {
     "data": {
      "text/plain": "                            name release_date      genre MPAA_rating  \\\n0           Recess: School's Out   2001-02-16     Comedy           G   \n1           D2: The Mighty Ducks   1994-03-25     Comedy          PG   \n2              Home on the Range   2004-04-02     Comedy          PG   \n3           Young Black Stallion   2003-12-25  Adventure           G   \n4  What's Love Got to Do With It   1993-06-09      Drama           R   \n\n      revenue director  \n0  54656124.0    0.814  \n1  94226333.0    1.048  \n2  67910166.0    1.975  \n3   9254344.0     4.61  \n4  79618610.0    0.946  ",
      "text/html": "<div>\n<style scoped>\n    .dataframe tbody tr th:only-of-type {\n        vertical-align: middle;\n    }\n\n    .dataframe tbody tr th {\n        vertical-align: top;\n    }\n\n    .dataframe thead th {\n        text-align: right;\n    }\n</style>\n<table border=\"1\" class=\"dataframe\">\n  <thead>\n    <tr style=\"text-align: right;\">\n      <th></th>\n      <th>name</th>\n      <th>release_date</th>\n      <th>genre</th>\n      <th>MPAA_rating</th>\n      <th>revenue</th>\n      <th>director</th>\n    </tr>\n  </thead>\n  <tbody>\n    <tr>\n      <th>0</th>\n      <td>Recess: School's Out</td>\n      <td>2001-02-16</td>\n      <td>Comedy</td>\n      <td>G</td>\n      <td>54656124.0</td>\n      <td>0.814</td>\n    </tr>\n    <tr>\n      <th>1</th>\n      <td>D2: The Mighty Ducks</td>\n      <td>1994-03-25</td>\n      <td>Comedy</td>\n      <td>PG</td>\n      <td>94226333.0</td>\n      <td>1.048</td>\n    </tr>\n    <tr>\n      <th>2</th>\n      <td>Home on the Range</td>\n      <td>2004-04-02</td>\n      <td>Comedy</td>\n      <td>PG</td>\n      <td>67910166.0</td>\n      <td>1.975</td>\n    </tr>\n    <tr>\n      <th>3</th>\n      <td>Young Black Stallion</td>\n      <td>2003-12-25</td>\n      <td>Adventure</td>\n      <td>G</td>\n      <td>9254344.0</td>\n      <td>4.61</td>\n    </tr>\n    <tr>\n      <th>4</th>\n      <td>What's Love Got to Do With It</td>\n      <td>1993-06-09</td>\n      <td>Drama</td>\n      <td>R</td>\n      <td>79618610.0</td>\n      <td>0.946</td>\n    </tr>\n  </tbody>\n</table>\n</div>"
     },
     "execution_count": 13,
     "metadata": {},
     "output_type": "execute_result"
    }
   ],
   "source": [
    "df['revenue'] = df['revenue'].str.replace(',', '').str.replace('$', '').astype('float')\n",
    "print(df.dtypes)\n",
    "df.head()"
   ],
   "metadata": {
    "collapsed": false
   }
  },
  {
   "cell_type": "markdown",
   "source": [
    "##### Encoding the MPAA Rating and Genre to indicator variables"
   ],
   "metadata": {
    "collapsed": false
   }
  },
  {
   "cell_type": "code",
   "execution_count": 14,
   "outputs": [
    {
     "data": {
      "text/plain": "name            0\nrelease_date    0\ngenre           0\nMPAA_rating     0\nrevenue         0\ndirector        0\ndtype: int64"
     },
     "execution_count": 14,
     "metadata": {},
     "output_type": "execute_result"
    }
   ],
   "source": [
    "# Fill the nulls with the mode\n",
    "df['director'] = df['director'].fillna(value=df['director'].median())\n",
    "df['genre'] = df['genre'].fillna(value=df['genre'].mode()[0])\n",
    "df['MPAA_rating'] = df['MPAA_rating'].fillna(value=df['MPAA_rating'].mode()[0])\n",
    "df.isnull().sum()"
   ],
   "metadata": {
    "collapsed": false
   }
  },
  {
   "cell_type": "code",
   "execution_count": 15,
   "outputs": [
    {
     "data": {
      "text/plain": "                            name release_date     revenue  director  \\\n0           Recess: School's Out   2001-02-16  54656124.0     0.814   \n1           D2: The Mighty Ducks   1994-03-25  94226333.0     1.048   \n2              Home on the Range   2004-04-02  67910166.0     1.975   \n3           Young Black Stallion   2003-12-25   9254344.0     4.610   \n4  What's Love Got to Do With It   1993-06-09  79618610.0     0.946   \n\n   rating_is_G  rating_is_Not Rated  rating_is_PG  rating_is_PG-13  \\\n0            1                    0             0                0   \n1            0                    0             1                0   \n2            0                    0             1                0   \n3            1                    0             0                0   \n4            0                    0             0                0   \n\n   rating_is_R  genre_is_Action  ...  genre_is_Black Comedy  genre_is_Comedy  \\\n0            0                0  ...                      0                1   \n1            0                0  ...                      0                1   \n2            0                0  ...                      0                1   \n3            0                0  ...                      0                0   \n4            1                0  ...                      0                0   \n\n   genre_is_Concert/Performance  genre_is_Documentary  genre_is_Drama  \\\n0                             0                     0               0   \n1                             0                     0               0   \n2                             0                     0               0   \n3                             0                     0               0   \n4                             0                     0               1   \n\n   genre_is_Horror  genre_is_Musical  genre_is_Romantic Comedy  \\\n0                0                 0                         0   \n1                0                 0                         0   \n2                0                 0                         0   \n3                0                 0                         0   \n4                0                 0                         0   \n\n   genre_is_Thriller/Suspense  genre_is_Western  \n0                           0                 0  \n1                           0                 0  \n2                           0                 0  \n3                           0                 0  \n4                           0                 0  \n\n[5 rows x 21 columns]",
      "text/html": "<div>\n<style scoped>\n    .dataframe tbody tr th:only-of-type {\n        vertical-align: middle;\n    }\n\n    .dataframe tbody tr th {\n        vertical-align: top;\n    }\n\n    .dataframe thead th {\n        text-align: right;\n    }\n</style>\n<table border=\"1\" class=\"dataframe\">\n  <thead>\n    <tr style=\"text-align: right;\">\n      <th></th>\n      <th>name</th>\n      <th>release_date</th>\n      <th>revenue</th>\n      <th>director</th>\n      <th>rating_is_G</th>\n      <th>rating_is_Not Rated</th>\n      <th>rating_is_PG</th>\n      <th>rating_is_PG-13</th>\n      <th>rating_is_R</th>\n      <th>genre_is_Action</th>\n      <th>...</th>\n      <th>genre_is_Black Comedy</th>\n      <th>genre_is_Comedy</th>\n      <th>genre_is_Concert/Performance</th>\n      <th>genre_is_Documentary</th>\n      <th>genre_is_Drama</th>\n      <th>genre_is_Horror</th>\n      <th>genre_is_Musical</th>\n      <th>genre_is_Romantic Comedy</th>\n      <th>genre_is_Thriller/Suspense</th>\n      <th>genre_is_Western</th>\n    </tr>\n  </thead>\n  <tbody>\n    <tr>\n      <th>0</th>\n      <td>Recess: School's Out</td>\n      <td>2001-02-16</td>\n      <td>54656124.0</td>\n      <td>0.814</td>\n      <td>1</td>\n      <td>0</td>\n      <td>0</td>\n      <td>0</td>\n      <td>0</td>\n      <td>0</td>\n      <td>...</td>\n      <td>0</td>\n      <td>1</td>\n      <td>0</td>\n      <td>0</td>\n      <td>0</td>\n      <td>0</td>\n      <td>0</td>\n      <td>0</td>\n      <td>0</td>\n      <td>0</td>\n    </tr>\n    <tr>\n      <th>1</th>\n      <td>D2: The Mighty Ducks</td>\n      <td>1994-03-25</td>\n      <td>94226333.0</td>\n      <td>1.048</td>\n      <td>0</td>\n      <td>0</td>\n      <td>1</td>\n      <td>0</td>\n      <td>0</td>\n      <td>0</td>\n      <td>...</td>\n      <td>0</td>\n      <td>1</td>\n      <td>0</td>\n      <td>0</td>\n      <td>0</td>\n      <td>0</td>\n      <td>0</td>\n      <td>0</td>\n      <td>0</td>\n      <td>0</td>\n    </tr>\n    <tr>\n      <th>2</th>\n      <td>Home on the Range</td>\n      <td>2004-04-02</td>\n      <td>67910166.0</td>\n      <td>1.975</td>\n      <td>0</td>\n      <td>0</td>\n      <td>1</td>\n      <td>0</td>\n      <td>0</td>\n      <td>0</td>\n      <td>...</td>\n      <td>0</td>\n      <td>1</td>\n      <td>0</td>\n      <td>0</td>\n      <td>0</td>\n      <td>0</td>\n      <td>0</td>\n      <td>0</td>\n      <td>0</td>\n      <td>0</td>\n    </tr>\n    <tr>\n      <th>3</th>\n      <td>Young Black Stallion</td>\n      <td>2003-12-25</td>\n      <td>9254344.0</td>\n      <td>4.610</td>\n      <td>1</td>\n      <td>0</td>\n      <td>0</td>\n      <td>0</td>\n      <td>0</td>\n      <td>0</td>\n      <td>...</td>\n      <td>0</td>\n      <td>0</td>\n      <td>0</td>\n      <td>0</td>\n      <td>0</td>\n      <td>0</td>\n      <td>0</td>\n      <td>0</td>\n      <td>0</td>\n      <td>0</td>\n    </tr>\n    <tr>\n      <th>4</th>\n      <td>What's Love Got to Do With It</td>\n      <td>1993-06-09</td>\n      <td>79618610.0</td>\n      <td>0.946</td>\n      <td>0</td>\n      <td>0</td>\n      <td>0</td>\n      <td>0</td>\n      <td>1</td>\n      <td>0</td>\n      <td>...</td>\n      <td>0</td>\n      <td>0</td>\n      <td>0</td>\n      <td>0</td>\n      <td>1</td>\n      <td>0</td>\n      <td>0</td>\n      <td>0</td>\n      <td>0</td>\n      <td>0</td>\n    </tr>\n  </tbody>\n</table>\n<p>5 rows × 21 columns</p>\n</div>"
     },
     "execution_count": 15,
     "metadata": {},
     "output_type": "execute_result"
    }
   ],
   "source": [
    "# Preprocessing genre and MPAA_rating\n",
    "\n",
    "df = pd.get_dummies(df, columns=[\"MPAA_rating\"], prefix=[\"rating_is\"])\n",
    "df = pd.get_dummies(df, columns=[\"genre\"], prefix=[\"genre_is\"])\n",
    "df.head()"
   ],
   "metadata": {
    "collapsed": false
   }
  },
  {
   "cell_type": "markdown",
   "source": [
    "##### Encoding the release date to a scalar"
   ],
   "metadata": {
    "collapsed": false
   }
  },
  {
   "cell_type": "code",
   "execution_count": 16,
   "outputs": [],
   "source": [
    "def date_to_float(dt):\n",
    "    # Calculating the months and days\n",
    "    calc = (((dt.month - 1) * 30) + dt.day) / 365\n",
    "    # Adding calc to the years\n",
    "    return dt.year + calc"
   ],
   "metadata": {
    "collapsed": false
   }
  },
  {
   "cell_type": "markdown",
   "source": [
    "##### Splitting date to days and months and then converting it to a scalar via `date_to_float()`"
   ],
   "metadata": {
    "collapsed": false
   }
  },
  {
   "cell_type": "code",
   "execution_count": 17,
   "outputs": [
    {
     "data": {
      "text/plain": "                            name  release_date     revenue  director  \\\n0           Recess: School's Out   2001.126027  54656124.0     0.814   \n1           D2: The Mighty Ducks   1994.232877  94226333.0     1.048   \n2              Home on the Range   2004.252055  67910166.0     1.975   \n3           Young Black Stallion   2003.972603   9254344.0     4.610   \n4  What's Love Got to Do With It   1993.435616  79618610.0     0.946   \n\n   rating_is_G  rating_is_Not Rated  rating_is_PG  rating_is_PG-13  \\\n0            1                    0             0                0   \n1            0                    0             1                0   \n2            0                    0             1                0   \n3            1                    0             0                0   \n4            0                    0             0                0   \n\n   rating_is_R  genre_is_Action  ...  genre_is_Documentary  genre_is_Drama  \\\n0            0                0  ...                     0               0   \n1            0                0  ...                     0               0   \n2            0                0  ...                     0               0   \n3            0                0  ...                     0               0   \n4            1                0  ...                     0               1   \n\n   genre_is_Horror  genre_is_Musical  genre_is_Romantic Comedy  \\\n0                0                 0                         0   \n1                0                 0                         0   \n2                0                 0                         0   \n3                0                 0                         0   \n4                0                 0                         0   \n\n   genre_is_Thriller/Suspense  genre_is_Western  month  day  season  \n0                           0                 0      2   16       1  \n1                           0                 0      3   25       1  \n2                           0                 0      4    2       2  \n3                           0                 0     12   25       4  \n4                           0                 0      6    9       2  \n\n[5 rows x 24 columns]",
      "text/html": "<div>\n<style scoped>\n    .dataframe tbody tr th:only-of-type {\n        vertical-align: middle;\n    }\n\n    .dataframe tbody tr th {\n        vertical-align: top;\n    }\n\n    .dataframe thead th {\n        text-align: right;\n    }\n</style>\n<table border=\"1\" class=\"dataframe\">\n  <thead>\n    <tr style=\"text-align: right;\">\n      <th></th>\n      <th>name</th>\n      <th>release_date</th>\n      <th>revenue</th>\n      <th>director</th>\n      <th>rating_is_G</th>\n      <th>rating_is_Not Rated</th>\n      <th>rating_is_PG</th>\n      <th>rating_is_PG-13</th>\n      <th>rating_is_R</th>\n      <th>genre_is_Action</th>\n      <th>...</th>\n      <th>genre_is_Documentary</th>\n      <th>genre_is_Drama</th>\n      <th>genre_is_Horror</th>\n      <th>genre_is_Musical</th>\n      <th>genre_is_Romantic Comedy</th>\n      <th>genre_is_Thriller/Suspense</th>\n      <th>genre_is_Western</th>\n      <th>month</th>\n      <th>day</th>\n      <th>season</th>\n    </tr>\n  </thead>\n  <tbody>\n    <tr>\n      <th>0</th>\n      <td>Recess: School's Out</td>\n      <td>2001.126027</td>\n      <td>54656124.0</td>\n      <td>0.814</td>\n      <td>1</td>\n      <td>0</td>\n      <td>0</td>\n      <td>0</td>\n      <td>0</td>\n      <td>0</td>\n      <td>...</td>\n      <td>0</td>\n      <td>0</td>\n      <td>0</td>\n      <td>0</td>\n      <td>0</td>\n      <td>0</td>\n      <td>0</td>\n      <td>2</td>\n      <td>16</td>\n      <td>1</td>\n    </tr>\n    <tr>\n      <th>1</th>\n      <td>D2: The Mighty Ducks</td>\n      <td>1994.232877</td>\n      <td>94226333.0</td>\n      <td>1.048</td>\n      <td>0</td>\n      <td>0</td>\n      <td>1</td>\n      <td>0</td>\n      <td>0</td>\n      <td>0</td>\n      <td>...</td>\n      <td>0</td>\n      <td>0</td>\n      <td>0</td>\n      <td>0</td>\n      <td>0</td>\n      <td>0</td>\n      <td>0</td>\n      <td>3</td>\n      <td>25</td>\n      <td>1</td>\n    </tr>\n    <tr>\n      <th>2</th>\n      <td>Home on the Range</td>\n      <td>2004.252055</td>\n      <td>67910166.0</td>\n      <td>1.975</td>\n      <td>0</td>\n      <td>0</td>\n      <td>1</td>\n      <td>0</td>\n      <td>0</td>\n      <td>0</td>\n      <td>...</td>\n      <td>0</td>\n      <td>0</td>\n      <td>0</td>\n      <td>0</td>\n      <td>0</td>\n      <td>0</td>\n      <td>0</td>\n      <td>4</td>\n      <td>2</td>\n      <td>2</td>\n    </tr>\n    <tr>\n      <th>3</th>\n      <td>Young Black Stallion</td>\n      <td>2003.972603</td>\n      <td>9254344.0</td>\n      <td>4.610</td>\n      <td>1</td>\n      <td>0</td>\n      <td>0</td>\n      <td>0</td>\n      <td>0</td>\n      <td>0</td>\n      <td>...</td>\n      <td>0</td>\n      <td>0</td>\n      <td>0</td>\n      <td>0</td>\n      <td>0</td>\n      <td>0</td>\n      <td>0</td>\n      <td>12</td>\n      <td>25</td>\n      <td>4</td>\n    </tr>\n    <tr>\n      <th>4</th>\n      <td>What's Love Got to Do With It</td>\n      <td>1993.435616</td>\n      <td>79618610.0</td>\n      <td>0.946</td>\n      <td>0</td>\n      <td>0</td>\n      <td>0</td>\n      <td>0</td>\n      <td>1</td>\n      <td>0</td>\n      <td>...</td>\n      <td>0</td>\n      <td>1</td>\n      <td>0</td>\n      <td>0</td>\n      <td>0</td>\n      <td>0</td>\n      <td>0</td>\n      <td>6</td>\n      <td>9</td>\n      <td>2</td>\n    </tr>\n  </tbody>\n</table>\n<p>5 rows × 24 columns</p>\n</div>"
     },
     "execution_count": 17,
     "metadata": {},
     "output_type": "execute_result"
    }
   ],
   "source": [
    "df['month'] = df['release_date'].dt.month\n",
    "df['day'] = df['release_date'].dt.day\n",
    "df['season'] = df['release_date'].dt.quarter\n",
    "df['release_date'] = df['release_date'].apply(date_to_float)\n",
    "df.head()"
   ],
   "metadata": {
    "collapsed": false
   }
  },
  {
   "cell_type": "markdown",
   "source": [
    "##### Saving the preprocessed dataset"
   ],
   "metadata": {
    "collapsed": false
   }
  },
  {
   "cell_type": "code",
   "execution_count": 18,
   "outputs": [],
   "source": [
    "df.to_csv('datasets/1/train/preprocessed.csv', index=False)"
   ],
   "metadata": {
    "collapsed": false
   }
  },
  {
   "cell_type": "markdown",
   "source": [
    "##### Adjusting the revenue to inflation"
   ],
   "metadata": {
    "collapsed": false
   }
  },
  {
   "cell_type": "code",
   "execution_count": null,
   "outputs": [],
   "source": [
    "import cpi\n",
    "\n",
    "df = pd.read_csv('datasets/1/train/preprocessed.csv')\n",
    "\n",
    "# Adjust the revenue to inflation using cpi\n",
    "df['revenue'] = df.apply(lambda x: cpi.inflate(x['revenue'],\n",
    "                                               int(x.release_date)), axis=1)"
   ],
   "metadata": {
    "collapsed": false
   }
  },
  {
   "cell_type": "markdown",
   "source": [
    "##### Fitting the Linear Regression model"
   ],
   "metadata": {
    "collapsed": false
   }
  },
  {
   "cell_type": "code",
   "execution_count": 31,
   "outputs": [
    {
     "name": "stdout",
     "output_type": "stream",
     "text": [
      "Coefficients: \n",
      " [-1.91251920e+08  9.98980854e+07  4.50903914e+07  2.23517418e-08\n",
      "  4.77233973e+06 -6.43895890e+06 -4.34237722e+07  5.96046448e-08\n",
      "  6.05348541e+07  3.72529030e-08 -8.56900466e+06  0.00000000e+00\n",
      "  0.00000000e+00 -5.19658495e+07  0.00000000e+00  0.00000000e+00\n",
      "  0.00000000e+00  0.00000000e+00  0.00000000e+00  3.24374329e+08\n",
      "  1.66396961e+07 -1.81530738e+08]\n",
      "Mean squared error: 48311858652198056.00\n",
      "Coefficient of determination: 0.24\n"
     ]
    }
   ],
   "source": [
    "from scipy.stats import stats\n",
    "from sklearn import linear_model\n",
    "from sklearn import metrics\n",
    "from sklearn.model_selection import train_test_split\n",
    "from sklearn.preprocessing import MinMaxScaler\n",
    "import numpy as np\n",
    "\n",
    "df = df.drop(['name'], axis=1)\n",
    "\n",
    "# drop outliers from the dataset via z score\n",
    "df = df[(np.abs(stats.zscore(df)) < 3).all(axis=1)]\n",
    "\n",
    "X = df.drop(['revenue'], axis=1)\n",
    "Y = df['revenue']\n",
    "\n",
    "# Splitting the dataset into the Training set and Test set\n",
    "X_train, X_test, Y_train, Y_test = train_test_split(X, Y, test_size=0.2, random_state=0)\n",
    "\n",
    "# Feature Scaling\n",
    "sc = MinMaxScaler()\n",
    "X_train = sc.fit_transform(X_train)\n",
    "X_test = sc.transform(X_test)\n",
    "\n",
    "# Fitting Linear Regression to the dataset\n",
    "regressor = linear_model.LinearRegression()\n",
    "regressor.fit(X_train, Y_train)\n",
    "\n",
    "# Predicting the Test set results\n",
    "Y_pred = regressor.predict(X_test)\n",
    "\n",
    "# The coefficients\n",
    "print('Coefficients: \\n', regressor.coef_)\n",
    "# The mean squared error\n",
    "print('Mean squared error: %.2f'\n",
    "      % metrics.mean_squared_error(Y_test, Y_pred))\n",
    "# The coefficient of determination: 1 is perfect prediction\n",
    "print('Coefficient of determination: %.2f'\n",
    "      % metrics.r2_score(Y_test, Y_pred))\n"
   ],
   "metadata": {
    "collapsed": false
   }
  }
 ],
 "metadata": {
  "kernelspec": {
   "display_name": "Python 3",
   "language": "python",
   "name": "python3"
  },
  "language_info": {
   "codemirror_mode": {
    "name": "ipython",
    "version": 2
   },
   "file_extension": ".py",
   "mimetype": "text/x-python",
   "name": "python",
   "nbconvert_exporter": "python",
   "pygments_lexer": "ipython2",
   "version": "2.7.6"
  }
 },
 "nbformat": 4,
 "nbformat_minor": 0
}
