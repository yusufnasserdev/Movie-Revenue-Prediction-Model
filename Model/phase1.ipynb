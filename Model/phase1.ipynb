{
 "cells": [
  {
   "cell_type": "markdown",
   "source": [
    "# Phase 1"
   ],
   "metadata": {
    "collapsed": false
   }
  },
  {
   "cell_type": "markdown",
   "source": [
    "## Preprocessing"
   ],
   "metadata": {
    "collapsed": false
   }
  },
  {
   "cell_type": "code",
   "execution_count": 2,
   "metadata": {
    "collapsed": true
   },
   "outputs": [],
   "source": [
    "import warnings\n",
    "\n",
    "import pandas as pd\n",
    "import numpy as np\n",
    "from dateutil.parser import parse\n",
    "from tmdbv3api import Movie\n",
    "from tmdbv3api import TMDb\n",
    "\n",
    "import keys  # TMDb API key file\n",
    "\n",
    "warnings.filterwarnings(\"ignore\")"
   ]
  },
  {
   "cell_type": "markdown",
   "source": [
    "##### Reading the train datasets"
   ],
   "metadata": {
    "collapsed": false
   }
  },
  {
   "cell_type": "code",
   "execution_count": null,
   "outputs": [],
   "source": [
    "# reading csv files\n",
    "movies_base = pd.read_csv('datasets/1/train/movies-revenue.csv')\n",
    "movies_director = pd.read_csv('datasets/1/train/movie-director.csv')"
   ],
   "metadata": {
    "collapsed": false
   }
  },
  {
   "cell_type": "markdown",
   "source": [
    "##### Checking nulls"
   ],
   "metadata": {
    "collapsed": false
   }
  },
  {
   "cell_type": "code",
   "execution_count": null,
   "outputs": [],
   "source": [
    "movies_base.isnull().sum()"
   ],
   "metadata": {
    "collapsed": false
   }
  },
  {
   "cell_type": "markdown",
   "source": [
    "##### Joining directors dataset into the movies (main) dataset"
   ],
   "metadata": {
    "collapsed": false
   }
  },
  {
   "cell_type": "code",
   "execution_count": null,
   "outputs": [],
   "source": [
    "# Merging dataframes; how = 'left' := use only keys from left frame.\n",
    "df = pd.merge(movies_base, movies_director, on='name', how='left')\n",
    "\n",
    "# displaying result\n",
    "df.head()"
   ],
   "metadata": {
    "collapsed": false
   }
  },
  {
   "cell_type": "markdown",
   "source": [
    "##### Filling the null directors"
   ],
   "metadata": {
    "collapsed": false
   }
  },
  {
   "cell_type": "code",
   "execution_count": null,
   "outputs": [],
   "source": [
    "df.isnull().sum()"
   ],
   "metadata": {
    "collapsed": false
   }
  },
  {
   "cell_type": "code",
   "execution_count": null,
   "outputs": [],
   "source": [
    "df.describe().T"
   ],
   "metadata": {
    "collapsed": false
   }
  },
  {
   "cell_type": "code",
   "execution_count": null,
   "outputs": [],
   "source": [
    "df.dtypes"
   ],
   "metadata": {
    "collapsed": false
   }
  },
  {
   "cell_type": "code",
   "execution_count": null,
   "outputs": [],
   "source": [
    "# Formatting the release_date to match the TMDb date format\n",
    "\n",
    "for i, movie in df.iterrows():\n",
    "    # Parse date from a string and return a datetime.datetime\n",
    "    release_date = parse(movie['release_date'])\n",
    "    # Remove the time from it reducing it to just the date\n",
    "    release_date = release_date.date()\n",
    "\n",
    "    # Parser doesn't do well with dates prior to the 80s\n",
    "    # Correcting the dates newer than this year to a century earlier\n",
    "    if release_date.year > 2023:\n",
    "        release_date = release_date.replace(year=release_date.year - 100)\n",
    "\n",
    "    # Editing the value at the original dataframe\n",
    "    df.at[i, 'release_date'] = release_date\n",
    "\n",
    "df['release_date'] = pd.to_datetime(df['release_date'])\n",
    "df.head(n=10)"
   ],
   "metadata": {
    "collapsed": false
   }
  },
  {
   "cell_type": "markdown",
   "source": [
    "##### Initializing TMDb API"
   ],
   "metadata": {
    "collapsed": false
   }
  },
  {
   "cell_type": "code",
   "execution_count": 2,
   "outputs": [],
   "source": [
    "# Using the TMDb to fill out the missing director from the original dataset\n",
    "\n",
    "# https://github.com/AnthonyBloomer/tmdbv3api\n",
    "# https://developers.themoviedb.org/3/getting-started/introduction\n",
    "\n",
    "# Creating a base class instance from the api library\n",
    "tmdb = TMDb()\n",
    "tmdb.api_key = keys.tmdb_key\n",
    "tmdb.language = 'en'\n",
    "tmdb.debug = True\n"
   ],
   "metadata": {
    "collapsed": false
   }
  },
  {
   "cell_type": "markdown",
   "source": [
    "##### Using the TMDb API to fill missing directors via the movie title and its release date\n",
    "Since the director name is still not encoded, the director's popularity score will replace it."
   ],
   "metadata": {
    "collapsed": false
   }
  },
  {
   "cell_type": "code",
   "execution_count": null,
   "outputs": [],
   "source": [
    "# Creating a Movie instance to search by the movie details\n",
    "movie = Movie()\n",
    "\n",
    "for i, mov in df.iterrows():\n",
    "    search = movie.search(mov['name'])  # Search by the movie title\n",
    "    for res in search:\n",
    "        try:\n",
    "            # Confirming the search results by the release date year\n",
    "            mov_date_str = str(mov['release_date'])\n",
    "            if res['release_date'][:4] == mov_date_str[:4]:\n",
    "                # Extracting the director from the movie credits\n",
    "                for member in movie.credits(res.id)['crew']:\n",
    "                    if member['job'] == 'Director':\n",
    "                        # Editing the value at the original dataframe\n",
    "                        df.at[i, 'director'] = member['popularity']\n",
    "                        break\n",
    "                break\n",
    "        except BaseException as error:\n",
    "            print('An exception occurred: {}'.format(error) + \" \" + mov['name'])"
   ],
   "metadata": {
    "collapsed": false
   }
  },
  {
   "cell_type": "code",
   "execution_count": null,
   "outputs": [],
   "source": [
    "df.isnull().sum()"
   ],
   "metadata": {
    "collapsed": false
   }
  },
  {
   "cell_type": "code",
   "execution_count": null,
   "outputs": [],
   "source": [
    "df.head()"
   ],
   "metadata": {
    "collapsed": false
   }
  },
  {
   "cell_type": "markdown",
   "source": [
    "##### Cleaning up the revenue to extract the float value"
   ],
   "metadata": {
    "collapsed": false
   }
  },
  {
   "cell_type": "code",
   "execution_count": null,
   "outputs": [],
   "source": [
    "df['revenue'] = df['revenue'].str.replace(',', '').str.replace('$', '').astype('float')\n",
    "print(df.dtypes)\n",
    "df.head()"
   ],
   "metadata": {
    "collapsed": false
   }
  },
  {
   "cell_type": "markdown",
   "source": [
    "##### Encoding the MPAA Rating and Genre to indicator variables"
   ],
   "metadata": {
    "collapsed": false
   }
  },
  {
   "cell_type": "code",
   "execution_count": null,
   "outputs": [],
   "source": [
    "# Fill the nulls with the mode\n",
    "df['director'] = df['director'].fillna(value=df['director'].median())\n",
    "df['genre'] = df['genre'].fillna(value=df['genre'].mode()[0])\n",
    "df['MPAA_rating'] = df['MPAA_rating'].fillna(value=df['MPAA_rating'].mode()[0])\n",
    "df.isnull().sum()"
   ],
   "metadata": {
    "collapsed": false
   }
  },
  {
   "cell_type": "code",
   "execution_count": null,
   "outputs": [],
   "source": [
    "# Preprocessing genre and MPAA_rating\n",
    "\n",
    "df = pd.get_dummies(df, columns=[\"MPAA_rating\"], prefix=[\"rating_is\"])\n",
    "df = pd.get_dummies(df, columns=[\"genre\"], prefix=[\"genre_is\"])\n",
    "df.head()"
   ],
   "metadata": {
    "collapsed": false
   }
  },
  {
   "cell_type": "markdown",
   "source": [
    "##### Encoding the release date to a scalar"
   ],
   "metadata": {
    "collapsed": false
   }
  },
  {
   "cell_type": "code",
   "execution_count": null,
   "outputs": [],
   "source": [
    "def date_to_float(dt):\n",
    "    # Calculating the months and days\n",
    "    calc = (((dt.month - 1) * 30) + dt.day) / 365\n",
    "    # Adding calc to the years\n",
    "    return dt.year + calc"
   ],
   "metadata": {
    "collapsed": false
   }
  },
  {
   "cell_type": "markdown",
   "source": [
    "##### Splitting date to days and months and then converting it to a scalar via `date_to_float()`"
   ],
   "metadata": {
    "collapsed": false
   }
  },
  {
   "cell_type": "code",
   "execution_count": null,
   "outputs": [],
   "source": [
    "df['month'] = df['release_date'].dt.month\n",
    "df['day'] = df['release_date'].dt.day\n",
    "df['season'] = df['release_date'].dt.quarter\n",
    "df['release_date'] = df['release_date'].apply(date_to_float)\n",
    "df.head()"
   ],
   "metadata": {
    "collapsed": false
   }
  },
  {
   "cell_type": "markdown",
   "source": [
    "##### Adjusting the revenue to inflation"
   ],
   "metadata": {
    "collapsed": false
   }
  },
  {
   "cell_type": "code",
   "execution_count": 3,
   "outputs": [
    {
     "data": {
      "text/plain": "                            name  release_date     revenue  director  \\\n0           Recess: School's Out   2001.126027  54656124.0     0.814   \n1           D2: The Mighty Ducks   1994.232877  94226333.0     1.048   \n2              Home on the Range   2004.252055  67910166.0     1.975   \n3           Young Black Stallion   2003.972603   9254344.0     4.610   \n4  What's Love Got to Do With It   1993.435616  79618610.0     0.946   \n\n   rating_is_G  rating_is_Not Rated  rating_is_PG  rating_is_PG-13  \\\n0            1                    0             0                0   \n1            0                    0             1                0   \n2            0                    0             1                0   \n3            1                    0             0                0   \n4            0                    0             0                0   \n\n   rating_is_R  genre_is_Action  ...  genre_is_Horror  genre_is_Musical  \\\n0            0                0  ...                0                 0   \n1            0                0  ...                0                 0   \n2            0                0  ...                0                 0   \n3            0                0  ...                0                 0   \n4            1                0  ...                0                 0   \n\n   genre_is_Romantic Comedy  genre_is_Thriller/Suspense  genre_is_Western  \\\n0                         0                           0                 0   \n1                         0                           0                 0   \n2                         0                           0                 0   \n3                         0                           0                 0   \n4                         0                           0                 0   \n\n   month  day  season       budget  runtime  \n0      2   16       1   10000000.0     82.0  \n1      3   25       1          0.0    106.0  \n2      4    2       2  110000000.0     76.0  \n3     12   25       4          0.0     49.0  \n4      6    9       2   15000000.0    118.0  \n\n[5 rows x 26 columns]",
      "text/html": "<div>\n<style scoped>\n    .dataframe tbody tr th:only-of-type {\n        vertical-align: middle;\n    }\n\n    .dataframe tbody tr th {\n        vertical-align: top;\n    }\n\n    .dataframe thead th {\n        text-align: right;\n    }\n</style>\n<table border=\"1\" class=\"dataframe\">\n  <thead>\n    <tr style=\"text-align: right;\">\n      <th></th>\n      <th>name</th>\n      <th>release_date</th>\n      <th>revenue</th>\n      <th>director</th>\n      <th>rating_is_G</th>\n      <th>rating_is_Not Rated</th>\n      <th>rating_is_PG</th>\n      <th>rating_is_PG-13</th>\n      <th>rating_is_R</th>\n      <th>genre_is_Action</th>\n      <th>...</th>\n      <th>genre_is_Horror</th>\n      <th>genre_is_Musical</th>\n      <th>genre_is_Romantic Comedy</th>\n      <th>genre_is_Thriller/Suspense</th>\n      <th>genre_is_Western</th>\n      <th>month</th>\n      <th>day</th>\n      <th>season</th>\n      <th>budget</th>\n      <th>runtime</th>\n    </tr>\n  </thead>\n  <tbody>\n    <tr>\n      <th>0</th>\n      <td>Recess: School's Out</td>\n      <td>2001.126027</td>\n      <td>54656124.0</td>\n      <td>0.814</td>\n      <td>1</td>\n      <td>0</td>\n      <td>0</td>\n      <td>0</td>\n      <td>0</td>\n      <td>0</td>\n      <td>...</td>\n      <td>0</td>\n      <td>0</td>\n      <td>0</td>\n      <td>0</td>\n      <td>0</td>\n      <td>2</td>\n      <td>16</td>\n      <td>1</td>\n      <td>10000000.0</td>\n      <td>82.0</td>\n    </tr>\n    <tr>\n      <th>1</th>\n      <td>D2: The Mighty Ducks</td>\n      <td>1994.232877</td>\n      <td>94226333.0</td>\n      <td>1.048</td>\n      <td>0</td>\n      <td>0</td>\n      <td>1</td>\n      <td>0</td>\n      <td>0</td>\n      <td>0</td>\n      <td>...</td>\n      <td>0</td>\n      <td>0</td>\n      <td>0</td>\n      <td>0</td>\n      <td>0</td>\n      <td>3</td>\n      <td>25</td>\n      <td>1</td>\n      <td>0.0</td>\n      <td>106.0</td>\n    </tr>\n    <tr>\n      <th>2</th>\n      <td>Home on the Range</td>\n      <td>2004.252055</td>\n      <td>67910166.0</td>\n      <td>1.975</td>\n      <td>0</td>\n      <td>0</td>\n      <td>1</td>\n      <td>0</td>\n      <td>0</td>\n      <td>0</td>\n      <td>...</td>\n      <td>0</td>\n      <td>0</td>\n      <td>0</td>\n      <td>0</td>\n      <td>0</td>\n      <td>4</td>\n      <td>2</td>\n      <td>2</td>\n      <td>110000000.0</td>\n      <td>76.0</td>\n    </tr>\n    <tr>\n      <th>3</th>\n      <td>Young Black Stallion</td>\n      <td>2003.972603</td>\n      <td>9254344.0</td>\n      <td>4.610</td>\n      <td>1</td>\n      <td>0</td>\n      <td>0</td>\n      <td>0</td>\n      <td>0</td>\n      <td>0</td>\n      <td>...</td>\n      <td>0</td>\n      <td>0</td>\n      <td>0</td>\n      <td>0</td>\n      <td>0</td>\n      <td>12</td>\n      <td>25</td>\n      <td>4</td>\n      <td>0.0</td>\n      <td>49.0</td>\n    </tr>\n    <tr>\n      <th>4</th>\n      <td>What's Love Got to Do With It</td>\n      <td>1993.435616</td>\n      <td>79618610.0</td>\n      <td>0.946</td>\n      <td>0</td>\n      <td>0</td>\n      <td>0</td>\n      <td>0</td>\n      <td>1</td>\n      <td>0</td>\n      <td>...</td>\n      <td>0</td>\n      <td>0</td>\n      <td>0</td>\n      <td>0</td>\n      <td>0</td>\n      <td>6</td>\n      <td>9</td>\n      <td>2</td>\n      <td>15000000.0</td>\n      <td>118.0</td>\n    </tr>\n  </tbody>\n</table>\n<p>5 rows × 26 columns</p>\n</div>"
     },
     "execution_count": 3,
     "metadata": {},
     "output_type": "execute_result"
    }
   ],
   "source": [
    "df = pd.read_csv('datasets/1/train/preprocessed.csv')\n",
    "\n",
    "df['budget'] = np.nan\n",
    "df['runtime'] = np.nan\n",
    "\n",
    "movie = Movie()\n",
    "\n",
    "# extract the budget and runtime from the TMDb API\n",
    "for i, mov in df.iterrows():\n",
    "    search = movie.search(mov['name'])  # Search by the movie title\n",
    "    for res in search:\n",
    "        try:\n",
    "            # Confirming the search results by the release date year\n",
    "            mov_date_str = str(mov['release_date'])\n",
    "            if int(res['release_date'][:4]) == int(mov_date_str[:4]):\n",
    "                # Editing the value at the original dataframe\n",
    "                detail = movie.details(res.id)\n",
    "                df.at[i, 'budget'] = detail['budget']\n",
    "                df.at[i, 'runtime'] = detail['runtime']\n",
    "                break\n",
    "        except BaseException as error:\n",
    "            print('An exception occurred: {}'.format(error) + \" \" + mov['name'])\n",
    "\n",
    "df.head()"
   ],
   "metadata": {
    "collapsed": false
   }
  },
  {
   "cell_type": "code",
   "execution_count": 5,
   "outputs": [],
   "source": [
    "import cpi\n",
    "\n",
    "# Update the CPI data\n",
    "# cpi.update()\n",
    "\n",
    "# Adjust the revenue to inflation using cpi\n",
    "df['revenue'] = df.apply(lambda x: cpi.inflate(x['revenue'],\n",
    "                                               int(x.release_date)), axis=1)\n",
    "df['budget'] = df.apply(lambda x: cpi.inflate(x['budget'],\n",
    "                                              int(x.release_date)), axis=1)"
   ],
   "metadata": {
    "collapsed": false
   }
  },
  {
   "cell_type": "markdown",
   "source": [
    "##### Feature Engineering"
   ],
   "metadata": {
    "collapsed": false
   }
  },
  {
   "cell_type": "code",
   "execution_count": 6,
   "outputs": [
    {
     "data": {
      "text/plain": "                          name  is_animation\n0               The Aristocats             1\n1          The Return of Jafar             1\n2                      Aladdin             1\n3  The Hunchback of Notre Dame             1\n4           The Little Mermaid             1",
      "text/html": "<div>\n<style scoped>\n    .dataframe tbody tr th:only-of-type {\n        vertical-align: middle;\n    }\n\n    .dataframe tbody tr th {\n        vertical-align: top;\n    }\n\n    .dataframe thead th {\n        text-align: right;\n    }\n</style>\n<table border=\"1\" class=\"dataframe\">\n  <thead>\n    <tr style=\"text-align: right;\">\n      <th></th>\n      <th>name</th>\n      <th>is_animation</th>\n    </tr>\n  </thead>\n  <tbody>\n    <tr>\n      <th>0</th>\n      <td>The Aristocats</td>\n      <td>1</td>\n    </tr>\n    <tr>\n      <th>1</th>\n      <td>The Return of Jafar</td>\n      <td>1</td>\n    </tr>\n    <tr>\n      <th>2</th>\n      <td>Aladdin</td>\n      <td>1</td>\n    </tr>\n    <tr>\n      <th>3</th>\n      <td>The Hunchback of Notre Dame</td>\n      <td>1</td>\n    </tr>\n    <tr>\n      <th>4</th>\n      <td>The Little Mermaid</td>\n      <td>1</td>\n    </tr>\n  </tbody>\n</table>\n</div>"
     },
     "execution_count": 6,
     "metadata": {},
     "output_type": "execute_result"
    }
   ],
   "source": [
    "df_animation = pd.read_csv('datasets/1/train/movie-voice-actors.csv')\n",
    "\n",
    "# Remove duplicates on name column\n",
    "df_animation = df_animation.drop_duplicates(subset=['name'], keep='first')\n",
    "\n",
    "# Add column is_animation\n",
    "df_animation['is_animation'] = 1\n",
    "\n",
    "# Drop other columns that are not needed\n",
    "df_animation = df_animation.drop(['voice_actor', 'character'], axis=1)\n",
    "\n",
    "df_animation.head()"
   ],
   "metadata": {
    "collapsed": false
   }
  },
  {
   "cell_type": "markdown",
   "source": [
    "##### Merging the animation dataset with the main dataset"
   ],
   "metadata": {
    "collapsed": false
   }
  },
  {
   "cell_type": "code",
   "execution_count": 7,
   "outputs": [
    {
     "data": {
      "text/plain": "                            name  release_date       revenue  director  \\\n0           Recess: School's Out   2001.126027  9.031840e+07     0.814   \n1           D2: The Mighty Ducks   1994.232877  1.860716e+08     1.048   \n2              Home on the Range   2004.252055  1.052104e+08     1.975   \n3           Young Black Stallion   2003.972603  1.471919e+07     4.610   \n4  What's Love Got to Do With It   1993.435616  1.612511e+08     0.946   \n\n   rating_is_G  rating_is_Not Rated  rating_is_PG  rating_is_PG-13  \\\n0            1                    0             0                0   \n1            0                    0             1                0   \n2            0                    0             1                0   \n3            1                    0             0                0   \n4            0                    0             0                0   \n\n   rating_is_R  genre_is_Action  ...  genre_is_Musical  \\\n0            0                0  ...                 0   \n1            0                0  ...                 0   \n2            0                0  ...                 0   \n3            0                0  ...                 0   \n4            1                0  ...                 0   \n\n   genre_is_Romantic Comedy  genre_is_Thriller/Suspense  genre_is_Western  \\\n0                         0                           0                 0   \n1                         0                           0                 0   \n2                         0                           0                 0   \n3                         0                           0                 0   \n4                         0                           0                 0   \n\n   month  day  season        budget  runtime  is_animation  \n0      2   16       1  1.652484e+07     82.0           0.0  \n1      3   25       1  0.000000e+00    106.0           0.0  \n2      4    2       2  1.704185e+08     76.0           1.0  \n3     12   25       4  0.000000e+00     49.0           0.0  \n4      6    9       2  3.037941e+07    118.0           0.0  \n\n[5 rows x 27 columns]",
      "text/html": "<div>\n<style scoped>\n    .dataframe tbody tr th:only-of-type {\n        vertical-align: middle;\n    }\n\n    .dataframe tbody tr th {\n        vertical-align: top;\n    }\n\n    .dataframe thead th {\n        text-align: right;\n    }\n</style>\n<table border=\"1\" class=\"dataframe\">\n  <thead>\n    <tr style=\"text-align: right;\">\n      <th></th>\n      <th>name</th>\n      <th>release_date</th>\n      <th>revenue</th>\n      <th>director</th>\n      <th>rating_is_G</th>\n      <th>rating_is_Not Rated</th>\n      <th>rating_is_PG</th>\n      <th>rating_is_PG-13</th>\n      <th>rating_is_R</th>\n      <th>genre_is_Action</th>\n      <th>...</th>\n      <th>genre_is_Musical</th>\n      <th>genre_is_Romantic Comedy</th>\n      <th>genre_is_Thriller/Suspense</th>\n      <th>genre_is_Western</th>\n      <th>month</th>\n      <th>day</th>\n      <th>season</th>\n      <th>budget</th>\n      <th>runtime</th>\n      <th>is_animation</th>\n    </tr>\n  </thead>\n  <tbody>\n    <tr>\n      <th>0</th>\n      <td>Recess: School's Out</td>\n      <td>2001.126027</td>\n      <td>9.031840e+07</td>\n      <td>0.814</td>\n      <td>1</td>\n      <td>0</td>\n      <td>0</td>\n      <td>0</td>\n      <td>0</td>\n      <td>0</td>\n      <td>...</td>\n      <td>0</td>\n      <td>0</td>\n      <td>0</td>\n      <td>0</td>\n      <td>2</td>\n      <td>16</td>\n      <td>1</td>\n      <td>1.652484e+07</td>\n      <td>82.0</td>\n      <td>0.0</td>\n    </tr>\n    <tr>\n      <th>1</th>\n      <td>D2: The Mighty Ducks</td>\n      <td>1994.232877</td>\n      <td>1.860716e+08</td>\n      <td>1.048</td>\n      <td>0</td>\n      <td>0</td>\n      <td>1</td>\n      <td>0</td>\n      <td>0</td>\n      <td>0</td>\n      <td>...</td>\n      <td>0</td>\n      <td>0</td>\n      <td>0</td>\n      <td>0</td>\n      <td>3</td>\n      <td>25</td>\n      <td>1</td>\n      <td>0.000000e+00</td>\n      <td>106.0</td>\n      <td>0.0</td>\n    </tr>\n    <tr>\n      <th>2</th>\n      <td>Home on the Range</td>\n      <td>2004.252055</td>\n      <td>1.052104e+08</td>\n      <td>1.975</td>\n      <td>0</td>\n      <td>0</td>\n      <td>1</td>\n      <td>0</td>\n      <td>0</td>\n      <td>0</td>\n      <td>...</td>\n      <td>0</td>\n      <td>0</td>\n      <td>0</td>\n      <td>0</td>\n      <td>4</td>\n      <td>2</td>\n      <td>2</td>\n      <td>1.704185e+08</td>\n      <td>76.0</td>\n      <td>1.0</td>\n    </tr>\n    <tr>\n      <th>3</th>\n      <td>Young Black Stallion</td>\n      <td>2003.972603</td>\n      <td>1.471919e+07</td>\n      <td>4.610</td>\n      <td>1</td>\n      <td>0</td>\n      <td>0</td>\n      <td>0</td>\n      <td>0</td>\n      <td>0</td>\n      <td>...</td>\n      <td>0</td>\n      <td>0</td>\n      <td>0</td>\n      <td>0</td>\n      <td>12</td>\n      <td>25</td>\n      <td>4</td>\n      <td>0.000000e+00</td>\n      <td>49.0</td>\n      <td>0.0</td>\n    </tr>\n    <tr>\n      <th>4</th>\n      <td>What's Love Got to Do With It</td>\n      <td>1993.435616</td>\n      <td>1.612511e+08</td>\n      <td>0.946</td>\n      <td>0</td>\n      <td>0</td>\n      <td>0</td>\n      <td>0</td>\n      <td>1</td>\n      <td>0</td>\n      <td>...</td>\n      <td>0</td>\n      <td>0</td>\n      <td>0</td>\n      <td>0</td>\n      <td>6</td>\n      <td>9</td>\n      <td>2</td>\n      <td>3.037941e+07</td>\n      <td>118.0</td>\n      <td>0.0</td>\n    </tr>\n  </tbody>\n</table>\n<p>5 rows × 27 columns</p>\n</div>"
     },
     "execution_count": 7,
     "metadata": {},
     "output_type": "execute_result"
    }
   ],
   "source": [
    "# Merge the animation dataset with the main dataset\n",
    "df = pd.merge(df, df_animation, on='name', how='left')\n",
    "\n",
    "# Fill the nulls with 0\n",
    "df['is_animation'] = df['is_animation'].fillna(value=0)\n",
    "\n",
    "df.head()"
   ],
   "metadata": {
    "collapsed": false
   }
  },
  {
   "cell_type": "markdown",
   "source": [
    "##### Saving the preprocessed dataset"
   ],
   "metadata": {
    "collapsed": false
   }
  },
  {
   "cell_type": "code",
   "execution_count": 8,
   "outputs": [],
   "source": [
    "df.to_csv('datasets/1/train/preprocessed_added.csv', index=False)"
   ],
   "metadata": {
    "collapsed": false
   }
  },
  {
   "cell_type": "markdown",
   "source": [
    "##### Fitting the Linear Regression model"
   ],
   "metadata": {
    "collapsed": false
   }
  },
  {
   "cell_type": "code",
   "execution_count": 4,
   "outputs": [
    {
     "name": "stdout",
     "output_type": "stream",
     "text": [
      "(463, 26)\n",
      "(304, 26)\n",
      "       release_date       revenue    director  rating_is_G  \\\n",
      "count    304.000000  3.040000e+02  304.000000   304.000000   \n",
      "mean    1998.824964  1.529126e+08    3.856589     0.108553   \n",
      "std        8.897066  1.877890e+08    3.480925     0.311590   \n",
      "min     1968.104110  0.000000e+00    0.600000     0.000000   \n",
      "25%     1992.929452  3.690260e+07    1.412750     0.000000   \n",
      "50%     1997.830137  9.164852e+07    3.075000     0.000000   \n",
      "75%     2005.354110  1.836557e+08    4.448500     0.000000   \n",
      "max     2016.947945  1.165681e+09   19.563000     1.000000   \n",
      "\n",
      "       rating_is_Not Rated  rating_is_PG  rating_is_PG-13  rating_is_R  \\\n",
      "count                304.0    304.000000       304.000000   304.000000   \n",
      "mean                   0.0      0.506579         0.213816     0.171053   \n",
      "std                    0.0      0.500781         0.410674     0.377176   \n",
      "min                    0.0      0.000000         0.000000     0.000000   \n",
      "25%                    0.0      0.000000         0.000000     0.000000   \n",
      "50%                    0.0      1.000000         0.000000     0.000000   \n",
      "75%                    0.0      1.000000         0.000000     0.000000   \n",
      "max                    0.0      1.000000         1.000000     1.000000   \n",
      "\n",
      "       genre_is_Action  genre_is_Adventure  ...  genre_is_Musical  \\\n",
      "count            304.0          304.000000  ...             304.0   \n",
      "mean               0.0            0.223684  ...               0.0   \n",
      "std                0.0            0.417400  ...               0.0   \n",
      "min                0.0            0.000000  ...               0.0   \n",
      "25%                0.0            0.000000  ...               0.0   \n",
      "50%                0.0            0.000000  ...               0.0   \n",
      "75%                0.0            0.000000  ...               0.0   \n",
      "max                0.0            1.000000  ...               0.0   \n",
      "\n",
      "       genre_is_Romantic Comedy  genre_is_Thriller/Suspense  genre_is_Western  \\\n",
      "count                     304.0                       304.0             304.0   \n",
      "mean                        0.0                         0.0               0.0   \n",
      "std                         0.0                         0.0               0.0   \n",
      "min                         0.0                         0.0               0.0   \n",
      "25%                         0.0                         0.0               0.0   \n",
      "50%                         0.0                         0.0               0.0   \n",
      "75%                         0.0                         0.0               0.0   \n",
      "max                         0.0                         0.0               0.0   \n",
      "\n",
      "            month         day      season        budget     runtime  \\\n",
      "count  304.000000  304.000000  304.000000  3.040000e+02  304.000000   \n",
      "mean     6.802632   15.371711    2.592105  6.248488e+07  103.976974   \n",
      "std      3.475590    9.014289    1.162422  5.609780e+07   15.575944   \n",
      "min      1.000000    1.000000    1.000000  4.050588e+06   49.000000   \n",
      "25%      3.000000    7.000000    1.000000  3.632808e+07   94.000000   \n",
      "50%      7.000000   15.500000    3.000000  3.867595e+07  103.000000   \n",
      "75%     10.000000   23.000000    4.000000  6.487471e+07  112.000000   \n",
      "max     12.000000   31.000000    4.000000  2.903323e+08  158.000000   \n",
      "\n",
      "       is_animation  \n",
      "count         304.0  \n",
      "mean            0.0  \n",
      "std             0.0  \n",
      "min             0.0  \n",
      "25%             0.0  \n",
      "50%             0.0  \n",
      "75%             0.0  \n",
      "max             0.0  \n",
      "\n",
      "[8 rows x 26 columns]\n"
     ]
    },
    {
     "data": {
      "text/plain": "                              release_date   revenue  director  rating_is_G  \\\nrelease_date                      1.000000 -0.116818  0.043793     0.205934   \nrevenue                          -0.116818  1.000000  0.212792     0.157768   \ndirector                          0.043793  0.212792  1.000000     0.069518   \nrating_is_G                       0.205934  0.157768  0.069518     1.000000   \nrating_is_Not Rated                    NaN       NaN       NaN          NaN   \nrating_is_PG                     -0.142025  0.050063 -0.068445    -0.353579   \nrating_is_PG-13                   0.102917 -0.058739  0.000226    -0.181983   \nrating_is_R                      -0.093614 -0.132848  0.033200    -0.158516   \ngenre_is_Action                        NaN       NaN       NaN          NaN   \ngenre_is_Adventure                0.304866  0.202678  0.079154     0.294828   \ngenre_is_Black Comedy                  NaN       NaN       NaN          NaN   \ngenre_is_Comedy                  -0.268159 -0.013137 -0.118154    -0.095170   \ngenre_is_Concert/Performance           NaN       NaN       NaN          NaN   \ngenre_is_Documentary                   NaN       NaN       NaN          NaN   \ngenre_is_Drama                    0.015739 -0.174183  0.058349    -0.168331   \ngenre_is_Horror                        NaN       NaN       NaN          NaN   \ngenre_is_Musical                       NaN       NaN       NaN          NaN   \ngenre_is_Romantic Comedy               NaN       NaN       NaN          NaN   \ngenre_is_Thriller/Suspense             NaN       NaN       NaN          NaN   \ngenre_is_Western                       NaN       NaN       NaN          NaN   \nmonth                             0.078988  0.173107  0.158613     0.004611   \nday                               0.085084  0.015025 -0.049530    -0.020288   \nseason                            0.065516  0.156895  0.143631    -0.014028   \nbudget                            0.340086  0.404898  0.277532     0.185310   \nruntime                           0.075335  0.106150  0.329023    -0.243609   \nis_animation                           NaN       NaN       NaN          NaN   \n\n                              rating_is_Not Rated  rating_is_PG  \\\nrelease_date                                  NaN     -0.142025   \nrevenue                                       NaN      0.050063   \ndirector                                      NaN     -0.068445   \nrating_is_G                                   NaN     -0.353579   \nrating_is_Not Rated                           NaN           NaN   \nrating_is_PG                                  NaN      1.000000   \nrating_is_PG-13                               NaN     -0.528412   \nrating_is_R                                   NaN     -0.460274   \ngenre_is_Action                               NaN           NaN   \ngenre_is_Adventure                            NaN      0.040304   \ngenre_is_Black Comedy                         NaN           NaN   \ngenre_is_Comedy                               NaN      0.144749   \ngenre_is_Concert/Performance                  NaN           NaN   \ngenre_is_Documentary                          NaN           NaN   \ngenre_is_Drama                                NaN     -0.199407   \ngenre_is_Horror                               NaN           NaN   \ngenre_is_Musical                              NaN           NaN   \ngenre_is_Romantic Comedy                      NaN           NaN   \ngenre_is_Thriller/Suspense                    NaN           NaN   \ngenre_is_Western                              NaN           NaN   \nmonth                                         NaN     -0.061826   \nday                                           NaN      0.015175   \nseason                                        NaN     -0.052070   \nbudget                                        NaN     -0.007927   \nruntime                                       NaN     -0.162667   \nis_animation                                  NaN           NaN   \n\n                              rating_is_PG-13  rating_is_R  genre_is_Action  \\\nrelease_date                         0.102917    -0.093614              NaN   \nrevenue                             -0.058739    -0.132848              NaN   \ndirector                             0.000226     0.033200              NaN   \nrating_is_G                         -0.181983    -0.158516              NaN   \nrating_is_Not Rated                       NaN          NaN              NaN   \nrating_is_PG                        -0.528412    -0.460274              NaN   \nrating_is_PG-13                      1.000000    -0.236897              NaN   \nrating_is_R                         -0.236897     1.000000              NaN   \ngenre_is_Action                           NaN          NaN              NaN   \ngenre_is_Adventure                  -0.087400    -0.201910              NaN   \ngenre_is_Black Comedy                     NaN          NaN              NaN   \ngenre_is_Comedy                     -0.072208    -0.034943              NaN   \ngenre_is_Concert/Performance              NaN          NaN              NaN   \ngenre_is_Documentary                      NaN          NaN              NaN   \ngenre_is_Drama                       0.162185     0.227227              NaN   \ngenre_is_Horror                           NaN          NaN              NaN   \ngenre_is_Musical                          NaN          NaN              NaN   \ngenre_is_Romantic Comedy                  NaN          NaN              NaN   \ngenre_is_Thriller/Suspense                NaN          NaN              NaN   \ngenre_is_Western                          NaN          NaN              NaN   \nmonth                               -0.007332     0.086261              NaN   \nday                                  0.027493    -0.033323              NaN   \nseason                              -0.010279     0.091915              NaN   \nbudget                              -0.008858    -0.132918              NaN   \nruntime                              0.184450     0.216393              NaN   \nis_animation                              NaN          NaN              NaN   \n\n                              genre_is_Adventure  ...  genre_is_Musical  \\\nrelease_date                            0.304866  ...               NaN   \nrevenue                                 0.202678  ...               NaN   \ndirector                                0.079154  ...               NaN   \nrating_is_G                             0.294828  ...               NaN   \nrating_is_Not Rated                          NaN  ...               NaN   \nrating_is_PG                            0.040304  ...               NaN   \nrating_is_PG-13                        -0.087400  ...               NaN   \nrating_is_R                            -0.201910  ...               NaN   \ngenre_is_Action                              NaN  ...               NaN   \ngenre_is_Adventure                      1.000000  ...               NaN   \ngenre_is_Black Comedy                        NaN  ...               NaN   \ngenre_is_Comedy                        -0.536783  ...               NaN   \ngenre_is_Concert/Performance                 NaN  ...               NaN   \ngenre_is_Documentary                         NaN  ...               NaN   \ngenre_is_Drama                         -0.331686  ...               NaN   \ngenre_is_Horror                              NaN  ...               NaN   \ngenre_is_Musical                             NaN  ...               NaN   \ngenre_is_Romantic Comedy                     NaN  ...               NaN   \ngenre_is_Thriller/Suspense                   NaN  ...               NaN   \ngenre_is_Western                             NaN  ...               NaN   \nmonth                                  -0.003592  ...               NaN   \nday                                    -0.007260  ...               NaN   \nseason                                 -0.008592  ...               NaN   \nbudget                                  0.478476  ...               NaN   \nruntime                                -0.023572  ...               NaN   \nis_animation                                 NaN  ...               NaN   \n\n                              genre_is_Romantic Comedy  \\\nrelease_date                                       NaN   \nrevenue                                            NaN   \ndirector                                           NaN   \nrating_is_G                                        NaN   \nrating_is_Not Rated                                NaN   \nrating_is_PG                                       NaN   \nrating_is_PG-13                                    NaN   \nrating_is_R                                        NaN   \ngenre_is_Action                                    NaN   \ngenre_is_Adventure                                 NaN   \ngenre_is_Black Comedy                              NaN   \ngenre_is_Comedy                                    NaN   \ngenre_is_Concert/Performance                       NaN   \ngenre_is_Documentary                               NaN   \ngenre_is_Drama                                     NaN   \ngenre_is_Horror                                    NaN   \ngenre_is_Musical                                   NaN   \ngenre_is_Romantic Comedy                           NaN   \ngenre_is_Thriller/Suspense                         NaN   \ngenre_is_Western                                   NaN   \nmonth                                              NaN   \nday                                                NaN   \nseason                                             NaN   \nbudget                                             NaN   \nruntime                                            NaN   \nis_animation                                       NaN   \n\n                              genre_is_Thriller/Suspense  genre_is_Western  \\\nrelease_date                                         NaN               NaN   \nrevenue                                              NaN               NaN   \ndirector                                             NaN               NaN   \nrating_is_G                                          NaN               NaN   \nrating_is_Not Rated                                  NaN               NaN   \nrating_is_PG                                         NaN               NaN   \nrating_is_PG-13                                      NaN               NaN   \nrating_is_R                                          NaN               NaN   \ngenre_is_Action                                      NaN               NaN   \ngenre_is_Adventure                                   NaN               NaN   \ngenre_is_Black Comedy                                NaN               NaN   \ngenre_is_Comedy                                      NaN               NaN   \ngenre_is_Concert/Performance                         NaN               NaN   \ngenre_is_Documentary                                 NaN               NaN   \ngenre_is_Drama                                       NaN               NaN   \ngenre_is_Horror                                      NaN               NaN   \ngenre_is_Musical                                     NaN               NaN   \ngenre_is_Romantic Comedy                             NaN               NaN   \ngenre_is_Thriller/Suspense                           NaN               NaN   \ngenre_is_Western                                     NaN               NaN   \nmonth                                                NaN               NaN   \nday                                                  NaN               NaN   \nseason                                               NaN               NaN   \nbudget                                               NaN               NaN   \nruntime                                              NaN               NaN   \nis_animation                                         NaN               NaN   \n\n                                 month       day    season    budget  \\\nrelease_date                  0.078988  0.085084  0.065516  0.340086   \nrevenue                       0.173107  0.015025  0.156895  0.404898   \ndirector                      0.158613 -0.049530  0.143631  0.277532   \nrating_is_G                   0.004611 -0.020288 -0.014028  0.185310   \nrating_is_Not Rated                NaN       NaN       NaN       NaN   \nrating_is_PG                 -0.061826  0.015175 -0.052070 -0.007927   \nrating_is_PG-13              -0.007332  0.027493 -0.010279 -0.008858   \nrating_is_R                   0.086261 -0.033323  0.091915 -0.132918   \ngenre_is_Action                    NaN       NaN       NaN       NaN   \ngenre_is_Adventure           -0.003592 -0.007260 -0.008592  0.478476   \ngenre_is_Black Comedy              NaN       NaN       NaN       NaN   \ngenre_is_Comedy              -0.130825  0.032531 -0.119049 -0.246298   \ngenre_is_Concert/Performance       NaN       NaN       NaN       NaN   \ngenre_is_Documentary               NaN       NaN       NaN       NaN   \ngenre_is_Drama                0.149627 -0.029609  0.141120 -0.170488   \ngenre_is_Horror                    NaN       NaN       NaN       NaN   \ngenre_is_Musical                   NaN       NaN       NaN       NaN   \ngenre_is_Romantic Comedy           NaN       NaN       NaN       NaN   \ngenre_is_Thriller/Suspense         NaN       NaN       NaN       NaN   \ngenre_is_Western                   NaN       NaN       NaN       NaN   \nmonth                         1.000000 -0.042631  0.973349  0.120580   \nday                          -0.042631  1.000000 -0.064539  0.034963   \nseason                        0.973349 -0.064539  1.000000  0.094848   \nbudget                        0.120580  0.034963  0.094848  1.000000   \nruntime                       0.132513 -0.046997  0.111582  0.236907   \nis_animation                       NaN       NaN       NaN       NaN   \n\n                               runtime  is_animation  \nrelease_date                  0.075335           NaN  \nrevenue                       0.106150           NaN  \ndirector                      0.329023           NaN  \nrating_is_G                  -0.243609           NaN  \nrating_is_Not Rated                NaN           NaN  \nrating_is_PG                 -0.162667           NaN  \nrating_is_PG-13               0.184450           NaN  \nrating_is_R                   0.216393           NaN  \ngenre_is_Action                    NaN           NaN  \ngenre_is_Adventure           -0.023572           NaN  \ngenre_is_Black Comedy              NaN           NaN  \ngenre_is_Comedy              -0.321326           NaN  \ngenre_is_Concert/Performance       NaN           NaN  \ngenre_is_Documentary               NaN           NaN  \ngenre_is_Drama                0.381250           NaN  \ngenre_is_Horror                    NaN           NaN  \ngenre_is_Musical                   NaN           NaN  \ngenre_is_Romantic Comedy           NaN           NaN  \ngenre_is_Thriller/Suspense         NaN           NaN  \ngenre_is_Western                   NaN           NaN  \nmonth                         0.132513           NaN  \nday                          -0.046997           NaN  \nseason                        0.111582           NaN  \nbudget                        0.236907           NaN  \nruntime                       1.000000           NaN  \nis_animation                       NaN           NaN  \n\n[26 rows x 26 columns]",
      "text/html": "<div>\n<style scoped>\n    .dataframe tbody tr th:only-of-type {\n        vertical-align: middle;\n    }\n\n    .dataframe tbody tr th {\n        vertical-align: top;\n    }\n\n    .dataframe thead th {\n        text-align: right;\n    }\n</style>\n<table border=\"1\" class=\"dataframe\">\n  <thead>\n    <tr style=\"text-align: right;\">\n      <th></th>\n      <th>release_date</th>\n      <th>revenue</th>\n      <th>director</th>\n      <th>rating_is_G</th>\n      <th>rating_is_Not Rated</th>\n      <th>rating_is_PG</th>\n      <th>rating_is_PG-13</th>\n      <th>rating_is_R</th>\n      <th>genre_is_Action</th>\n      <th>genre_is_Adventure</th>\n      <th>...</th>\n      <th>genre_is_Musical</th>\n      <th>genre_is_Romantic Comedy</th>\n      <th>genre_is_Thriller/Suspense</th>\n      <th>genre_is_Western</th>\n      <th>month</th>\n      <th>day</th>\n      <th>season</th>\n      <th>budget</th>\n      <th>runtime</th>\n      <th>is_animation</th>\n    </tr>\n  </thead>\n  <tbody>\n    <tr>\n      <th>release_date</th>\n      <td>1.000000</td>\n      <td>-0.116818</td>\n      <td>0.043793</td>\n      <td>0.205934</td>\n      <td>NaN</td>\n      <td>-0.142025</td>\n      <td>0.102917</td>\n      <td>-0.093614</td>\n      <td>NaN</td>\n      <td>0.304866</td>\n      <td>...</td>\n      <td>NaN</td>\n      <td>NaN</td>\n      <td>NaN</td>\n      <td>NaN</td>\n      <td>0.078988</td>\n      <td>0.085084</td>\n      <td>0.065516</td>\n      <td>0.340086</td>\n      <td>0.075335</td>\n      <td>NaN</td>\n    </tr>\n    <tr>\n      <th>revenue</th>\n      <td>-0.116818</td>\n      <td>1.000000</td>\n      <td>0.212792</td>\n      <td>0.157768</td>\n      <td>NaN</td>\n      <td>0.050063</td>\n      <td>-0.058739</td>\n      <td>-0.132848</td>\n      <td>NaN</td>\n      <td>0.202678</td>\n      <td>...</td>\n      <td>NaN</td>\n      <td>NaN</td>\n      <td>NaN</td>\n      <td>NaN</td>\n      <td>0.173107</td>\n      <td>0.015025</td>\n      <td>0.156895</td>\n      <td>0.404898</td>\n      <td>0.106150</td>\n      <td>NaN</td>\n    </tr>\n    <tr>\n      <th>director</th>\n      <td>0.043793</td>\n      <td>0.212792</td>\n      <td>1.000000</td>\n      <td>0.069518</td>\n      <td>NaN</td>\n      <td>-0.068445</td>\n      <td>0.000226</td>\n      <td>0.033200</td>\n      <td>NaN</td>\n      <td>0.079154</td>\n      <td>...</td>\n      <td>NaN</td>\n      <td>NaN</td>\n      <td>NaN</td>\n      <td>NaN</td>\n      <td>0.158613</td>\n      <td>-0.049530</td>\n      <td>0.143631</td>\n      <td>0.277532</td>\n      <td>0.329023</td>\n      <td>NaN</td>\n    </tr>\n    <tr>\n      <th>rating_is_G</th>\n      <td>0.205934</td>\n      <td>0.157768</td>\n      <td>0.069518</td>\n      <td>1.000000</td>\n      <td>NaN</td>\n      <td>-0.353579</td>\n      <td>-0.181983</td>\n      <td>-0.158516</td>\n      <td>NaN</td>\n      <td>0.294828</td>\n      <td>...</td>\n      <td>NaN</td>\n      <td>NaN</td>\n      <td>NaN</td>\n      <td>NaN</td>\n      <td>0.004611</td>\n      <td>-0.020288</td>\n      <td>-0.014028</td>\n      <td>0.185310</td>\n      <td>-0.243609</td>\n      <td>NaN</td>\n    </tr>\n    <tr>\n      <th>rating_is_Not Rated</th>\n      <td>NaN</td>\n      <td>NaN</td>\n      <td>NaN</td>\n      <td>NaN</td>\n      <td>NaN</td>\n      <td>NaN</td>\n      <td>NaN</td>\n      <td>NaN</td>\n      <td>NaN</td>\n      <td>NaN</td>\n      <td>...</td>\n      <td>NaN</td>\n      <td>NaN</td>\n      <td>NaN</td>\n      <td>NaN</td>\n      <td>NaN</td>\n      <td>NaN</td>\n      <td>NaN</td>\n      <td>NaN</td>\n      <td>NaN</td>\n      <td>NaN</td>\n    </tr>\n    <tr>\n      <th>rating_is_PG</th>\n      <td>-0.142025</td>\n      <td>0.050063</td>\n      <td>-0.068445</td>\n      <td>-0.353579</td>\n      <td>NaN</td>\n      <td>1.000000</td>\n      <td>-0.528412</td>\n      <td>-0.460274</td>\n      <td>NaN</td>\n      <td>0.040304</td>\n      <td>...</td>\n      <td>NaN</td>\n      <td>NaN</td>\n      <td>NaN</td>\n      <td>NaN</td>\n      <td>-0.061826</td>\n      <td>0.015175</td>\n      <td>-0.052070</td>\n      <td>-0.007927</td>\n      <td>-0.162667</td>\n      <td>NaN</td>\n    </tr>\n    <tr>\n      <th>rating_is_PG-13</th>\n      <td>0.102917</td>\n      <td>-0.058739</td>\n      <td>0.000226</td>\n      <td>-0.181983</td>\n      <td>NaN</td>\n      <td>-0.528412</td>\n      <td>1.000000</td>\n      <td>-0.236897</td>\n      <td>NaN</td>\n      <td>-0.087400</td>\n      <td>...</td>\n      <td>NaN</td>\n      <td>NaN</td>\n      <td>NaN</td>\n      <td>NaN</td>\n      <td>-0.007332</td>\n      <td>0.027493</td>\n      <td>-0.010279</td>\n      <td>-0.008858</td>\n      <td>0.184450</td>\n      <td>NaN</td>\n    </tr>\n    <tr>\n      <th>rating_is_R</th>\n      <td>-0.093614</td>\n      <td>-0.132848</td>\n      <td>0.033200</td>\n      <td>-0.158516</td>\n      <td>NaN</td>\n      <td>-0.460274</td>\n      <td>-0.236897</td>\n      <td>1.000000</td>\n      <td>NaN</td>\n      <td>-0.201910</td>\n      <td>...</td>\n      <td>NaN</td>\n      <td>NaN</td>\n      <td>NaN</td>\n      <td>NaN</td>\n      <td>0.086261</td>\n      <td>-0.033323</td>\n      <td>0.091915</td>\n      <td>-0.132918</td>\n      <td>0.216393</td>\n      <td>NaN</td>\n    </tr>\n    <tr>\n      <th>genre_is_Action</th>\n      <td>NaN</td>\n      <td>NaN</td>\n      <td>NaN</td>\n      <td>NaN</td>\n      <td>NaN</td>\n      <td>NaN</td>\n      <td>NaN</td>\n      <td>NaN</td>\n      <td>NaN</td>\n      <td>NaN</td>\n      <td>...</td>\n      <td>NaN</td>\n      <td>NaN</td>\n      <td>NaN</td>\n      <td>NaN</td>\n      <td>NaN</td>\n      <td>NaN</td>\n      <td>NaN</td>\n      <td>NaN</td>\n      <td>NaN</td>\n      <td>NaN</td>\n    </tr>\n    <tr>\n      <th>genre_is_Adventure</th>\n      <td>0.304866</td>\n      <td>0.202678</td>\n      <td>0.079154</td>\n      <td>0.294828</td>\n      <td>NaN</td>\n      <td>0.040304</td>\n      <td>-0.087400</td>\n      <td>-0.201910</td>\n      <td>NaN</td>\n      <td>1.000000</td>\n      <td>...</td>\n      <td>NaN</td>\n      <td>NaN</td>\n      <td>NaN</td>\n      <td>NaN</td>\n      <td>-0.003592</td>\n      <td>-0.007260</td>\n      <td>-0.008592</td>\n      <td>0.478476</td>\n      <td>-0.023572</td>\n      <td>NaN</td>\n    </tr>\n    <tr>\n      <th>genre_is_Black Comedy</th>\n      <td>NaN</td>\n      <td>NaN</td>\n      <td>NaN</td>\n      <td>NaN</td>\n      <td>NaN</td>\n      <td>NaN</td>\n      <td>NaN</td>\n      <td>NaN</td>\n      <td>NaN</td>\n      <td>NaN</td>\n      <td>...</td>\n      <td>NaN</td>\n      <td>NaN</td>\n      <td>NaN</td>\n      <td>NaN</td>\n      <td>NaN</td>\n      <td>NaN</td>\n      <td>NaN</td>\n      <td>NaN</td>\n      <td>NaN</td>\n      <td>NaN</td>\n    </tr>\n    <tr>\n      <th>genre_is_Comedy</th>\n      <td>-0.268159</td>\n      <td>-0.013137</td>\n      <td>-0.118154</td>\n      <td>-0.095170</td>\n      <td>NaN</td>\n      <td>0.144749</td>\n      <td>-0.072208</td>\n      <td>-0.034943</td>\n      <td>NaN</td>\n      <td>-0.536783</td>\n      <td>...</td>\n      <td>NaN</td>\n      <td>NaN</td>\n      <td>NaN</td>\n      <td>NaN</td>\n      <td>-0.130825</td>\n      <td>0.032531</td>\n      <td>-0.119049</td>\n      <td>-0.246298</td>\n      <td>-0.321326</td>\n      <td>NaN</td>\n    </tr>\n    <tr>\n      <th>genre_is_Concert/Performance</th>\n      <td>NaN</td>\n      <td>NaN</td>\n      <td>NaN</td>\n      <td>NaN</td>\n      <td>NaN</td>\n      <td>NaN</td>\n      <td>NaN</td>\n      <td>NaN</td>\n      <td>NaN</td>\n      <td>NaN</td>\n      <td>...</td>\n      <td>NaN</td>\n      <td>NaN</td>\n      <td>NaN</td>\n      <td>NaN</td>\n      <td>NaN</td>\n      <td>NaN</td>\n      <td>NaN</td>\n      <td>NaN</td>\n      <td>NaN</td>\n      <td>NaN</td>\n    </tr>\n    <tr>\n      <th>genre_is_Documentary</th>\n      <td>NaN</td>\n      <td>NaN</td>\n      <td>NaN</td>\n      <td>NaN</td>\n      <td>NaN</td>\n      <td>NaN</td>\n      <td>NaN</td>\n      <td>NaN</td>\n      <td>NaN</td>\n      <td>NaN</td>\n      <td>...</td>\n      <td>NaN</td>\n      <td>NaN</td>\n      <td>NaN</td>\n      <td>NaN</td>\n      <td>NaN</td>\n      <td>NaN</td>\n      <td>NaN</td>\n      <td>NaN</td>\n      <td>NaN</td>\n      <td>NaN</td>\n    </tr>\n    <tr>\n      <th>genre_is_Drama</th>\n      <td>0.015739</td>\n      <td>-0.174183</td>\n      <td>0.058349</td>\n      <td>-0.168331</td>\n      <td>NaN</td>\n      <td>-0.199407</td>\n      <td>0.162185</td>\n      <td>0.227227</td>\n      <td>NaN</td>\n      <td>-0.331686</td>\n      <td>...</td>\n      <td>NaN</td>\n      <td>NaN</td>\n      <td>NaN</td>\n      <td>NaN</td>\n      <td>0.149627</td>\n      <td>-0.029609</td>\n      <td>0.141120</td>\n      <td>-0.170488</td>\n      <td>0.381250</td>\n      <td>NaN</td>\n    </tr>\n    <tr>\n      <th>genre_is_Horror</th>\n      <td>NaN</td>\n      <td>NaN</td>\n      <td>NaN</td>\n      <td>NaN</td>\n      <td>NaN</td>\n      <td>NaN</td>\n      <td>NaN</td>\n      <td>NaN</td>\n      <td>NaN</td>\n      <td>NaN</td>\n      <td>...</td>\n      <td>NaN</td>\n      <td>NaN</td>\n      <td>NaN</td>\n      <td>NaN</td>\n      <td>NaN</td>\n      <td>NaN</td>\n      <td>NaN</td>\n      <td>NaN</td>\n      <td>NaN</td>\n      <td>NaN</td>\n    </tr>\n    <tr>\n      <th>genre_is_Musical</th>\n      <td>NaN</td>\n      <td>NaN</td>\n      <td>NaN</td>\n      <td>NaN</td>\n      <td>NaN</td>\n      <td>NaN</td>\n      <td>NaN</td>\n      <td>NaN</td>\n      <td>NaN</td>\n      <td>NaN</td>\n      <td>...</td>\n      <td>NaN</td>\n      <td>NaN</td>\n      <td>NaN</td>\n      <td>NaN</td>\n      <td>NaN</td>\n      <td>NaN</td>\n      <td>NaN</td>\n      <td>NaN</td>\n      <td>NaN</td>\n      <td>NaN</td>\n    </tr>\n    <tr>\n      <th>genre_is_Romantic Comedy</th>\n      <td>NaN</td>\n      <td>NaN</td>\n      <td>NaN</td>\n      <td>NaN</td>\n      <td>NaN</td>\n      <td>NaN</td>\n      <td>NaN</td>\n      <td>NaN</td>\n      <td>NaN</td>\n      <td>NaN</td>\n      <td>...</td>\n      <td>NaN</td>\n      <td>NaN</td>\n      <td>NaN</td>\n      <td>NaN</td>\n      <td>NaN</td>\n      <td>NaN</td>\n      <td>NaN</td>\n      <td>NaN</td>\n      <td>NaN</td>\n      <td>NaN</td>\n    </tr>\n    <tr>\n      <th>genre_is_Thriller/Suspense</th>\n      <td>NaN</td>\n      <td>NaN</td>\n      <td>NaN</td>\n      <td>NaN</td>\n      <td>NaN</td>\n      <td>NaN</td>\n      <td>NaN</td>\n      <td>NaN</td>\n      <td>NaN</td>\n      <td>NaN</td>\n      <td>...</td>\n      <td>NaN</td>\n      <td>NaN</td>\n      <td>NaN</td>\n      <td>NaN</td>\n      <td>NaN</td>\n      <td>NaN</td>\n      <td>NaN</td>\n      <td>NaN</td>\n      <td>NaN</td>\n      <td>NaN</td>\n    </tr>\n    <tr>\n      <th>genre_is_Western</th>\n      <td>NaN</td>\n      <td>NaN</td>\n      <td>NaN</td>\n      <td>NaN</td>\n      <td>NaN</td>\n      <td>NaN</td>\n      <td>NaN</td>\n      <td>NaN</td>\n      <td>NaN</td>\n      <td>NaN</td>\n      <td>...</td>\n      <td>NaN</td>\n      <td>NaN</td>\n      <td>NaN</td>\n      <td>NaN</td>\n      <td>NaN</td>\n      <td>NaN</td>\n      <td>NaN</td>\n      <td>NaN</td>\n      <td>NaN</td>\n      <td>NaN</td>\n    </tr>\n    <tr>\n      <th>month</th>\n      <td>0.078988</td>\n      <td>0.173107</td>\n      <td>0.158613</td>\n      <td>0.004611</td>\n      <td>NaN</td>\n      <td>-0.061826</td>\n      <td>-0.007332</td>\n      <td>0.086261</td>\n      <td>NaN</td>\n      <td>-0.003592</td>\n      <td>...</td>\n      <td>NaN</td>\n      <td>NaN</td>\n      <td>NaN</td>\n      <td>NaN</td>\n      <td>1.000000</td>\n      <td>-0.042631</td>\n      <td>0.973349</td>\n      <td>0.120580</td>\n      <td>0.132513</td>\n      <td>NaN</td>\n    </tr>\n    <tr>\n      <th>day</th>\n      <td>0.085084</td>\n      <td>0.015025</td>\n      <td>-0.049530</td>\n      <td>-0.020288</td>\n      <td>NaN</td>\n      <td>0.015175</td>\n      <td>0.027493</td>\n      <td>-0.033323</td>\n      <td>NaN</td>\n      <td>-0.007260</td>\n      <td>...</td>\n      <td>NaN</td>\n      <td>NaN</td>\n      <td>NaN</td>\n      <td>NaN</td>\n      <td>-0.042631</td>\n      <td>1.000000</td>\n      <td>-0.064539</td>\n      <td>0.034963</td>\n      <td>-0.046997</td>\n      <td>NaN</td>\n    </tr>\n    <tr>\n      <th>season</th>\n      <td>0.065516</td>\n      <td>0.156895</td>\n      <td>0.143631</td>\n      <td>-0.014028</td>\n      <td>NaN</td>\n      <td>-0.052070</td>\n      <td>-0.010279</td>\n      <td>0.091915</td>\n      <td>NaN</td>\n      <td>-0.008592</td>\n      <td>...</td>\n      <td>NaN</td>\n      <td>NaN</td>\n      <td>NaN</td>\n      <td>NaN</td>\n      <td>0.973349</td>\n      <td>-0.064539</td>\n      <td>1.000000</td>\n      <td>0.094848</td>\n      <td>0.111582</td>\n      <td>NaN</td>\n    </tr>\n    <tr>\n      <th>budget</th>\n      <td>0.340086</td>\n      <td>0.404898</td>\n      <td>0.277532</td>\n      <td>0.185310</td>\n      <td>NaN</td>\n      <td>-0.007927</td>\n      <td>-0.008858</td>\n      <td>-0.132918</td>\n      <td>NaN</td>\n      <td>0.478476</td>\n      <td>...</td>\n      <td>NaN</td>\n      <td>NaN</td>\n      <td>NaN</td>\n      <td>NaN</td>\n      <td>0.120580</td>\n      <td>0.034963</td>\n      <td>0.094848</td>\n      <td>1.000000</td>\n      <td>0.236907</td>\n      <td>NaN</td>\n    </tr>\n    <tr>\n      <th>runtime</th>\n      <td>0.075335</td>\n      <td>0.106150</td>\n      <td>0.329023</td>\n      <td>-0.243609</td>\n      <td>NaN</td>\n      <td>-0.162667</td>\n      <td>0.184450</td>\n      <td>0.216393</td>\n      <td>NaN</td>\n      <td>-0.023572</td>\n      <td>...</td>\n      <td>NaN</td>\n      <td>NaN</td>\n      <td>NaN</td>\n      <td>NaN</td>\n      <td>0.132513</td>\n      <td>-0.046997</td>\n      <td>0.111582</td>\n      <td>0.236907</td>\n      <td>1.000000</td>\n      <td>NaN</td>\n    </tr>\n    <tr>\n      <th>is_animation</th>\n      <td>NaN</td>\n      <td>NaN</td>\n      <td>NaN</td>\n      <td>NaN</td>\n      <td>NaN</td>\n      <td>NaN</td>\n      <td>NaN</td>\n      <td>NaN</td>\n      <td>NaN</td>\n      <td>NaN</td>\n      <td>...</td>\n      <td>NaN</td>\n      <td>NaN</td>\n      <td>NaN</td>\n      <td>NaN</td>\n      <td>NaN</td>\n      <td>NaN</td>\n      <td>NaN</td>\n      <td>NaN</td>\n      <td>NaN</td>\n      <td>NaN</td>\n    </tr>\n  </tbody>\n</table>\n<p>26 rows × 26 columns</p>\n</div>"
     },
     "execution_count": 4,
     "metadata": {},
     "output_type": "execute_result"
    }
   ],
   "source": [
    "from scipy.stats import stats\n",
    "from sklearn import linear_model\n",
    "from sklearn import metrics\n",
    "from sklearn.model_selection import train_test_split\n",
    "from sklearn.preprocessing import MinMaxScaler\n",
    "import numpy as np\n",
    "\n",
    "df = pd.read_csv('datasets/1/train/preprocessed_added.csv')\n",
    "df = df.drop(['name'], axis=1)\n",
    "\n",
    "df['budget'] = df['budget'].replace(0, df['budget'].median())\n",
    "df['budget'] = df['budget'].fillna(value=df['budget'].median())\n",
    "\n",
    "df['runtime'] = df['runtime'].replace(0, df['runtime'].median())\n",
    "df['runtime'] = df['runtime'].fillna(value=df['runtime'].median())\n",
    "\n",
    "print(df.shape)\n",
    "\n",
    "# drop outliers from the dataset via z score\n",
    "df = df[(np.abs(stats.zscore(df)) < 3).all(axis=1)]\n",
    "\n",
    "print(df.shape)\n",
    "print(df.describe())\n",
    "\n",
    "# plot correlation matrix\n",
    "corr = df.corr()\n",
    "corr.style.background_gradient(cmap='coolwarm')\n",
    "corr\n"
   ],
   "metadata": {
    "collapsed": false
   }
  },
  {
   "cell_type": "code",
   "execution_count": 5,
   "outputs": [
    {
     "name": "stdout",
     "output_type": "stream",
     "text": [
      "(304, 19)\n",
      "Coefficients: \n",
      " [ 8.14553375e+07  4.32163274e+07 -1.19209290e-07 -2.98023224e-08\n",
      "  4.77783013e+06 -5.96046448e-08  2.98023224e-08  0.00000000e+00\n",
      "  0.00000000e+00  0.00000000e+00  0.00000000e+00  0.00000000e+00\n",
      "  0.00000000e+00  1.19423486e+08 -4.08194348e+07  3.18175758e+08\n",
      " -2.46915983e+07  0.00000000e+00]\n",
      "Mean squared error: 20888175887351192.00\n",
      "Variance score: 0.28\n"
     ]
    }
   ],
   "source": [
    "# drop columns with low correlation\n",
    "df = df.drop(corr[corr['revenue'] < 0.1].index, axis=1)\n",
    "\n",
    "print(df.shape)\n",
    "\n",
    "X = df.drop(['revenue'], axis=1)\n",
    "Y = df['revenue']\n",
    "\n",
    "# Feature Scaling\n",
    "sc = MinMaxScaler()\n",
    "X = sc.fit_transform(X)\n",
    "\n",
    "# Splitting the dataset into the Training set and Test set\n",
    "X_train, X_test, Y_train, Y_test = train_test_split(X, Y, test_size=0.2, random_state=0)\n",
    "\n",
    "# Fitting Multiple Linear Regression to the Training set\n",
    "regressor = linear_model.LinearRegression()\n",
    "regressor.fit(X_train, Y_train)\n",
    "\n",
    "# Predicting the Test set results\n",
    "Y_pred = regressor.predict(X_test)\n",
    "\n",
    "# The coefficients\n",
    "print('Coefficients: \\n', regressor.coef_)\n",
    "# The mean squared error\n",
    "print(\"Mean squared error: %.2f\"\n",
    "      % metrics.mean_squared_error(Y_test, Y_pred))\n",
    "# Explained variance score: 1 is perfect prediction\n",
    "print('Variance score: %.2f' % metrics.r2_score(Y_test, Y_pred))\n"
   ],
   "metadata": {
    "collapsed": false
   }
  },
  {
   "cell_type": "markdown",
   "source": [
    "##### Testing the model"
   ],
   "metadata": {
    "collapsed": false
   }
  },
  {
   "cell_type": "code",
   "execution_count": null,
   "outputs": [],
   "source": [
    "# Loading the test dataset\n",
    "\n",
    "movies_base_test = pd.read_csv('datasets/1/test/movies-revenue.csv')\n",
    "movies_director_test = pd.read_csv('datasets/1/test/movie-director.csv')\n",
    "\n",
    "# Merging the two datasets\n",
    "df_test = pd.merge(movies_base_test, movies_director_test, on='name', how='left')\n",
    "\n",
    "# Preprocessing the test dataset\n",
    "df_test['release_date'] = pd.to_datetime(df_test['release_date'])\n",
    "df_test['release_date'] = df_test['release_date'].apply(date_to_float)\n",
    "df_test['month'] = df_test['release_date'].dt.month\n",
    "df_test['day'] = df_test['release_date'].dt.day\n",
    "df_test['season'] = df_test['release_date'].dt.quarter\n",
    "df_test['release_date'] = df_test['release_date'].apply(date_to_float)\n",
    "df_test = pd.get_dummies(df_test, columns=[\"MPAA_rating\"], prefix=[\"rating_is\"])\n",
    "df_test = pd.get_dummies(df_test, columns=[\"genre\"], prefix=[\"genre_is\"])\n",
    "df_test = pd.merge(df_test, df_animation, on='name', how='left')\n",
    "df_test['is_animation'] = df_test['is_animation'].fillna(value=0)\n",
    "df_test = df_test.drop(['name'], axis=1)\n",
    "\n",
    "df_test = df_test.drop(['revenue'], axis=1)\n",
    "Y_test = df['revenue']\n",
    "\n",
    "# Feature Scaling\n",
    "X_test = sc.transform(df_test)\n",
    "\n",
    "# Predicting the Test set results\n",
    "y_pred = regressor.predict(X_test)\n",
    "\n",
    "# The mean squared error\n",
    "print('Mean squared error: %.2f'\n",
    "      % metrics.mean_squared_error(Y_test, y_pred))\n",
    "# The coefficient of determination: 1 is perfect prediction\n",
    "print('Coefficient of determination: %.2f'\n",
    "      % metrics.r2_score(Y_test, y_pred))\n",
    "\n"
   ],
   "metadata": {
    "collapsed": false
   }
  },
  {
   "cell_type": "markdown",
   "source": [],
   "metadata": {
    "collapsed": false
   }
  }
 ],
 "metadata": {
  "kernelspec": {
   "display_name": "Python 3",
   "language": "python",
   "name": "python3"
  },
  "language_info": {
   "codemirror_mode": {
    "name": "ipython",
    "version": 2
   },
   "file_extension": ".py",
   "mimetype": "text/x-python",
   "name": "python",
   "nbconvert_exporter": "python",
   "pygments_lexer": "ipython2",
   "version": "2.7.6"
  }
 },
 "nbformat": 4,
 "nbformat_minor": 0
}
