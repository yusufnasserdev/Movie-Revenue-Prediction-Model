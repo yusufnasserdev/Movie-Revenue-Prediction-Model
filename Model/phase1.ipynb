{
 "cells": [
  {
   "cell_type": "markdown",
   "source": [
    "# Phase 1"
   ],
   "metadata": {
    "collapsed": false
   }
  },
  {
   "cell_type": "markdown",
   "source": [
    "## Preprocessing"
   ],
   "metadata": {
    "collapsed": false
   }
  },
  {
   "cell_type": "code",
   "execution_count": 1,
   "metadata": {
    "collapsed": true
   },
   "outputs": [],
   "source": [
    "import warnings\n",
    "\n",
    "import pandas as pd\n",
    "import numpy as np\n",
    "from dateutil.parser import parse\n",
    "from tmdbv3api import Movie\n",
    "from tmdbv3api import TMDb\n",
    "\n",
    "import keys  # TMDb API key file\n",
    "\n",
    "warnings.filterwarnings(\"ignore\")"
   ]
  },
  {
   "cell_type": "markdown",
   "source": [
    "##### Reading the train datasets"
   ],
   "metadata": {
    "collapsed": false
   }
  },
  {
   "cell_type": "code",
   "execution_count": null,
   "outputs": [],
   "source": [
    "# reading csv files\n",
    "movies_base = pd.read_csv('datasets/1/train/movies-revenue.csv')\n",
    "movies_director = pd.read_csv('datasets/1/train/movie-director.csv')"
   ],
   "metadata": {
    "collapsed": false
   }
  },
  {
   "cell_type": "markdown",
   "source": [
    "##### Checking nulls"
   ],
   "metadata": {
    "collapsed": false
   }
  },
  {
   "cell_type": "code",
   "execution_count": null,
   "outputs": [],
   "source": [
    "movies_base.isnull().sum()"
   ],
   "metadata": {
    "collapsed": false
   }
  },
  {
   "cell_type": "markdown",
   "source": [
    "##### Joining directors dataset into the movies (main) dataset"
   ],
   "metadata": {
    "collapsed": false
   }
  },
  {
   "cell_type": "code",
   "execution_count": null,
   "outputs": [],
   "source": [
    "# Merging dataframes; how = 'left' := use only keys from left frame.\n",
    "df = pd.merge(movies_base, movies_director, on='name', how='left')\n",
    "\n",
    "# displaying result\n",
    "df.head()"
   ],
   "metadata": {
    "collapsed": false
   }
  },
  {
   "cell_type": "markdown",
   "source": [
    "##### Filling the null directors"
   ],
   "metadata": {
    "collapsed": false
   }
  },
  {
   "cell_type": "code",
   "execution_count": null,
   "outputs": [],
   "source": [
    "df.isnull().sum()"
   ],
   "metadata": {
    "collapsed": false
   }
  },
  {
   "cell_type": "code",
   "execution_count": null,
   "outputs": [],
   "source": [
    "df.describe().T"
   ],
   "metadata": {
    "collapsed": false
   }
  },
  {
   "cell_type": "code",
   "execution_count": null,
   "outputs": [],
   "source": [
    "df.dtypes"
   ],
   "metadata": {
    "collapsed": false
   }
  },
  {
   "cell_type": "code",
   "execution_count": null,
   "outputs": [],
   "source": [
    "# Formatting the release_date to match the TMDb date format\n",
    "\n",
    "for i, movie in df.iterrows():\n",
    "    # Parse date from a string and return a datetime.datetime\n",
    "    release_date = parse(movie['release_date'])\n",
    "    # Remove the time from it reducing it to just the date\n",
    "    release_date = release_date.date()\n",
    "\n",
    "    # Parser doesn't do well with dates prior to the 80s\n",
    "    # Correcting the dates newer than this year to a century earlier\n",
    "    if release_date.year > 2023:\n",
    "        release_date = release_date.replace(year=release_date.year - 100)\n",
    "\n",
    "    # Editing the value at the original dataframe\n",
    "    df.at[i, 'release_date'] = release_date\n",
    "\n",
    "df['release_date'] = pd.to_datetime(df['release_date'])\n",
    "df.head(n=10)"
   ],
   "metadata": {
    "collapsed": false
   }
  },
  {
   "cell_type": "markdown",
   "source": [
    "##### Initializing TMDb API"
   ],
   "metadata": {
    "collapsed": false
   }
  },
  {
   "cell_type": "code",
   "execution_count": 2,
   "outputs": [],
   "source": [
    "# Using the TMDb to fill out the missing director from the original dataset\n",
    "\n",
    "# https://github.com/AnthonyBloomer/tmdbv3api\n",
    "# https://developers.themoviedb.org/3/getting-started/introduction\n",
    "\n",
    "# Creating a base class instance from the api library\n",
    "tmdb = TMDb()\n",
    "tmdb.api_key = keys.tmdb_key\n",
    "tmdb.language = 'en'\n",
    "tmdb.debug = True\n"
   ],
   "metadata": {
    "collapsed": false
   }
  },
  {
   "cell_type": "markdown",
   "source": [
    "##### Using the TMDb API to fill missing directors via the movie title and its release date\n",
    "Since the director name is still not encoded, the director's popularity score will replace it."
   ],
   "metadata": {
    "collapsed": false
   }
  },
  {
   "cell_type": "code",
   "execution_count": null,
   "outputs": [],
   "source": [
    "# Creating a Movie instance to search by the movie details\n",
    "movie = Movie()\n",
    "\n",
    "for i, mov in df.iterrows():\n",
    "    search = movie.search(mov['name'])  # Search by the movie title\n",
    "    for res in search:\n",
    "        try:\n",
    "            # Confirming the search results by the release date year\n",
    "            mov_date_str = str(mov['release_date'])\n",
    "            if res['release_date'][:4] == mov_date_str[:4]:\n",
    "                # Extracting the director from the movie credits\n",
    "                for member in movie.credits(res.id)['crew']:\n",
    "                    if member['job'] == 'Director':\n",
    "                        # Editing the value at the original dataframe\n",
    "                        df.at[i, 'director'] = member['popularity']\n",
    "                        break\n",
    "                break\n",
    "        except BaseException as error:\n",
    "            print('An exception occurred: {}'.format(error) + \" \" + mov['name'])"
   ],
   "metadata": {
    "collapsed": false
   }
  },
  {
   "cell_type": "code",
   "execution_count": null,
   "outputs": [],
   "source": [
    "df.isnull().sum()"
   ],
   "metadata": {
    "collapsed": false
   }
  },
  {
   "cell_type": "code",
   "execution_count": null,
   "outputs": [],
   "source": [
    "df.head()"
   ],
   "metadata": {
    "collapsed": false
   }
  },
  {
   "cell_type": "markdown",
   "source": [
    "##### Cleaning up the revenue to extract the float value"
   ],
   "metadata": {
    "collapsed": false
   }
  },
  {
   "cell_type": "code",
   "execution_count": null,
   "outputs": [],
   "source": [
    "df['revenue'] = df['revenue'].str.replace(',', '').str.replace('$', '').astype('float')\n",
    "print(df.dtypes)\n",
    "df.head()"
   ],
   "metadata": {
    "collapsed": false
   }
  },
  {
   "cell_type": "markdown",
   "source": [
    "##### Encoding the MPAA Rating and Genre to indicator variables"
   ],
   "metadata": {
    "collapsed": false
   }
  },
  {
   "cell_type": "code",
   "execution_count": null,
   "outputs": [],
   "source": [
    "# Fill the nulls with the mode\n",
    "df['director'] = df['director'].fillna(value=df['director'].median())\n",
    "df['genre'] = df['genre'].fillna(value=df['genre'].mode()[0])\n",
    "df['MPAA_rating'] = df['MPAA_rating'].fillna(value=df['MPAA_rating'].mode()[0])\n",
    "df.isnull().sum()"
   ],
   "metadata": {
    "collapsed": false
   }
  },
  {
   "cell_type": "code",
   "execution_count": null,
   "outputs": [],
   "source": [
    "# Preprocessing genre and MPAA_rating\n",
    "\n",
    "df = pd.get_dummies(df, columns=[\"MPAA_rating\"], prefix=[\"rating_is\"])\n",
    "df = pd.get_dummies(df, columns=[\"genre\"], prefix=[\"genre_is\"])\n",
    "df.head()"
   ],
   "metadata": {
    "collapsed": false
   }
  },
  {
   "cell_type": "markdown",
   "source": [
    "##### Encoding the release date to a scalar"
   ],
   "metadata": {
    "collapsed": false
   }
  },
  {
   "cell_type": "code",
   "execution_count": null,
   "outputs": [],
   "source": [
    "def date_to_float(dt):\n",
    "    # Calculating the months and days\n",
    "    calc = (((dt.month - 1) * 30) + dt.day) / 365\n",
    "    # Adding calc to the years\n",
    "    return dt.year + calc"
   ],
   "metadata": {
    "collapsed": false
   }
  },
  {
   "cell_type": "markdown",
   "source": [
    "##### Splitting date to days and months and then converting it to a scalar via `date_to_float()`"
   ],
   "metadata": {
    "collapsed": false
   }
  },
  {
   "cell_type": "code",
   "execution_count": null,
   "outputs": [],
   "source": [
    "df['month'] = df['release_date'].dt.month\n",
    "df['day'] = df['release_date'].dt.day\n",
    "df['season'] = df['release_date'].dt.quarter\n",
    "df['release_date'] = df['release_date'].apply(date_to_float)\n",
    "df.head()"
   ],
   "metadata": {
    "collapsed": false
   }
  },
  {
   "cell_type": "markdown",
   "source": [
    "##### Adjusting the revenue to inflation"
   ],
   "metadata": {
    "collapsed": false
   }
  },
  {
   "cell_type": "code",
   "execution_count": 3,
   "outputs": [
    {
     "data": {
      "text/plain": "                            name  release_date     revenue  director  \\\n0           Recess: School's Out   2001.126027  54656124.0     0.814   \n1           D2: The Mighty Ducks   1994.232877  94226333.0     1.048   \n2              Home on the Range   2004.252055  67910166.0     1.975   \n3           Young Black Stallion   2003.972603   9254344.0     4.610   \n4  What's Love Got to Do With It   1993.435616  79618610.0     0.946   \n\n   rating_is_G  rating_is_Not Rated  rating_is_PG  rating_is_PG-13  \\\n0            1                    0             0                0   \n1            0                    0             1                0   \n2            0                    0             1                0   \n3            1                    0             0                0   \n4            0                    0             0                0   \n\n   rating_is_R  genre_is_Action  ...  genre_is_Horror  genre_is_Musical  \\\n0            0                0  ...                0                 0   \n1            0                0  ...                0                 0   \n2            0                0  ...                0                 0   \n3            0                0  ...                0                 0   \n4            1                0  ...                0                 0   \n\n   genre_is_Romantic Comedy  genre_is_Thriller/Suspense  genre_is_Western  \\\n0                         0                           0                 0   \n1                         0                           0                 0   \n2                         0                           0                 0   \n3                         0                           0                 0   \n4                         0                           0                 0   \n\n   month  day  season       budget  runtime  \n0      2   16       1   10000000.0     82.0  \n1      3   25       1          0.0    106.0  \n2      4    2       2  110000000.0     76.0  \n3     12   25       4          0.0     49.0  \n4      6    9       2   15000000.0    118.0  \n\n[5 rows x 26 columns]",
      "text/html": "<div>\n<style scoped>\n    .dataframe tbody tr th:only-of-type {\n        vertical-align: middle;\n    }\n\n    .dataframe tbody tr th {\n        vertical-align: top;\n    }\n\n    .dataframe thead th {\n        text-align: right;\n    }\n</style>\n<table border=\"1\" class=\"dataframe\">\n  <thead>\n    <tr style=\"text-align: right;\">\n      <th></th>\n      <th>name</th>\n      <th>release_date</th>\n      <th>revenue</th>\n      <th>director</th>\n      <th>rating_is_G</th>\n      <th>rating_is_Not Rated</th>\n      <th>rating_is_PG</th>\n      <th>rating_is_PG-13</th>\n      <th>rating_is_R</th>\n      <th>genre_is_Action</th>\n      <th>...</th>\n      <th>genre_is_Horror</th>\n      <th>genre_is_Musical</th>\n      <th>genre_is_Romantic Comedy</th>\n      <th>genre_is_Thriller/Suspense</th>\n      <th>genre_is_Western</th>\n      <th>month</th>\n      <th>day</th>\n      <th>season</th>\n      <th>budget</th>\n      <th>runtime</th>\n    </tr>\n  </thead>\n  <tbody>\n    <tr>\n      <th>0</th>\n      <td>Recess: School's Out</td>\n      <td>2001.126027</td>\n      <td>54656124.0</td>\n      <td>0.814</td>\n      <td>1</td>\n      <td>0</td>\n      <td>0</td>\n      <td>0</td>\n      <td>0</td>\n      <td>0</td>\n      <td>...</td>\n      <td>0</td>\n      <td>0</td>\n      <td>0</td>\n      <td>0</td>\n      <td>0</td>\n      <td>2</td>\n      <td>16</td>\n      <td>1</td>\n      <td>10000000.0</td>\n      <td>82.0</td>\n    </tr>\n    <tr>\n      <th>1</th>\n      <td>D2: The Mighty Ducks</td>\n      <td>1994.232877</td>\n      <td>94226333.0</td>\n      <td>1.048</td>\n      <td>0</td>\n      <td>0</td>\n      <td>1</td>\n      <td>0</td>\n      <td>0</td>\n      <td>0</td>\n      <td>...</td>\n      <td>0</td>\n      <td>0</td>\n      <td>0</td>\n      <td>0</td>\n      <td>0</td>\n      <td>3</td>\n      <td>25</td>\n      <td>1</td>\n      <td>0.0</td>\n      <td>106.0</td>\n    </tr>\n    <tr>\n      <th>2</th>\n      <td>Home on the Range</td>\n      <td>2004.252055</td>\n      <td>67910166.0</td>\n      <td>1.975</td>\n      <td>0</td>\n      <td>0</td>\n      <td>1</td>\n      <td>0</td>\n      <td>0</td>\n      <td>0</td>\n      <td>...</td>\n      <td>0</td>\n      <td>0</td>\n      <td>0</td>\n      <td>0</td>\n      <td>0</td>\n      <td>4</td>\n      <td>2</td>\n      <td>2</td>\n      <td>110000000.0</td>\n      <td>76.0</td>\n    </tr>\n    <tr>\n      <th>3</th>\n      <td>Young Black Stallion</td>\n      <td>2003.972603</td>\n      <td>9254344.0</td>\n      <td>4.610</td>\n      <td>1</td>\n      <td>0</td>\n      <td>0</td>\n      <td>0</td>\n      <td>0</td>\n      <td>0</td>\n      <td>...</td>\n      <td>0</td>\n      <td>0</td>\n      <td>0</td>\n      <td>0</td>\n      <td>0</td>\n      <td>12</td>\n      <td>25</td>\n      <td>4</td>\n      <td>0.0</td>\n      <td>49.0</td>\n    </tr>\n    <tr>\n      <th>4</th>\n      <td>What's Love Got to Do With It</td>\n      <td>1993.435616</td>\n      <td>79618610.0</td>\n      <td>0.946</td>\n      <td>0</td>\n      <td>0</td>\n      <td>0</td>\n      <td>0</td>\n      <td>1</td>\n      <td>0</td>\n      <td>...</td>\n      <td>0</td>\n      <td>0</td>\n      <td>0</td>\n      <td>0</td>\n      <td>0</td>\n      <td>6</td>\n      <td>9</td>\n      <td>2</td>\n      <td>15000000.0</td>\n      <td>118.0</td>\n    </tr>\n  </tbody>\n</table>\n<p>5 rows × 26 columns</p>\n</div>"
     },
     "execution_count": 3,
     "metadata": {},
     "output_type": "execute_result"
    }
   ],
   "source": [
    "df = pd.read_csv('datasets/1/train/preprocessed.csv')\n",
    "\n",
    "df['budget'] = np.nan\n",
    "df['runtime'] = np.nan\n",
    "\n",
    "movie = Movie()\n",
    "\n",
    "# extract the budget and runtime from the TMDb API\n",
    "for i, mov in df.iterrows():\n",
    "    search = movie.search(mov['name'])  # Search by the movie title\n",
    "    for res in search:\n",
    "        try:\n",
    "            # Confirming the search results by the release date year\n",
    "            mov_date_str = str(mov['release_date'])\n",
    "            if int(res['release_date'][:4]) == int(mov_date_str[:4]):\n",
    "                # Editing the value at the original dataframe\n",
    "                detail = movie.details(res.id)\n",
    "                df.at[i, 'budget'] = detail['budget']\n",
    "                df.at[i, 'runtime'] = detail['runtime']\n",
    "                break\n",
    "        except BaseException as error:\n",
    "            print('An exception occurred: {}'.format(error) + \" \" + mov['name'])\n",
    "\n",
    "df.head()"
   ],
   "metadata": {
    "collapsed": false
   }
  },
  {
   "cell_type": "code",
   "execution_count": 5,
   "outputs": [],
   "source": [
    "import cpi\n",
    "\n",
    "# Update the CPI data\n",
    "# cpi.update()\n",
    "\n",
    "# Adjust the revenue to inflation using cpi\n",
    "df['revenue'] = df.apply(lambda x: cpi.inflate(x['revenue'],\n",
    "                                               int(x.release_date)), axis=1)\n",
    "df['budget'] = df.apply(lambda x: cpi.inflate(x['budget'],\n",
    "                                              int(x.release_date)), axis=1)"
   ],
   "metadata": {
    "collapsed": false
   }
  },
  {
   "cell_type": "markdown",
   "source": [
    "##### Feature Engineering"
   ],
   "metadata": {
    "collapsed": false
   }
  },
  {
   "cell_type": "code",
   "execution_count": 6,
   "outputs": [
    {
     "data": {
      "text/plain": "                          name  is_animation\n0               The Aristocats             1\n1          The Return of Jafar             1\n2                      Aladdin             1\n3  The Hunchback of Notre Dame             1\n4           The Little Mermaid             1",
      "text/html": "<div>\n<style scoped>\n    .dataframe tbody tr th:only-of-type {\n        vertical-align: middle;\n    }\n\n    .dataframe tbody tr th {\n        vertical-align: top;\n    }\n\n    .dataframe thead th {\n        text-align: right;\n    }\n</style>\n<table border=\"1\" class=\"dataframe\">\n  <thead>\n    <tr style=\"text-align: right;\">\n      <th></th>\n      <th>name</th>\n      <th>is_animation</th>\n    </tr>\n  </thead>\n  <tbody>\n    <tr>\n      <th>0</th>\n      <td>The Aristocats</td>\n      <td>1</td>\n    </tr>\n    <tr>\n      <th>1</th>\n      <td>The Return of Jafar</td>\n      <td>1</td>\n    </tr>\n    <tr>\n      <th>2</th>\n      <td>Aladdin</td>\n      <td>1</td>\n    </tr>\n    <tr>\n      <th>3</th>\n      <td>The Hunchback of Notre Dame</td>\n      <td>1</td>\n    </tr>\n    <tr>\n      <th>4</th>\n      <td>The Little Mermaid</td>\n      <td>1</td>\n    </tr>\n  </tbody>\n</table>\n</div>"
     },
     "execution_count": 6,
     "metadata": {},
     "output_type": "execute_result"
    }
   ],
   "source": [
    "df_animation = pd.read_csv('datasets/1/train/movie-voice-actors.csv')\n",
    "\n",
    "# Remove duplicates on name column\n",
    "df_animation = df_animation.drop_duplicates(subset=['name'], keep='first')\n",
    "\n",
    "# Add column is_animation\n",
    "df_animation['is_animation'] = 1\n",
    "\n",
    "# Drop other columns that are not needed\n",
    "df_animation = df_animation.drop(['voice_actor', 'character'], axis=1)\n",
    "\n",
    "df_animation.head()"
   ],
   "metadata": {
    "collapsed": false
   }
  },
  {
   "cell_type": "markdown",
   "source": [
    "##### Merging the animation dataset with the main dataset"
   ],
   "metadata": {
    "collapsed": false
   }
  },
  {
   "cell_type": "code",
   "execution_count": 7,
   "outputs": [
    {
     "data": {
      "text/plain": "                            name  release_date       revenue  director  \\\n0           Recess: School's Out   2001.126027  9.031840e+07     0.814   \n1           D2: The Mighty Ducks   1994.232877  1.860716e+08     1.048   \n2              Home on the Range   2004.252055  1.052104e+08     1.975   \n3           Young Black Stallion   2003.972603  1.471919e+07     4.610   \n4  What's Love Got to Do With It   1993.435616  1.612511e+08     0.946   \n\n   rating_is_G  rating_is_Not Rated  rating_is_PG  rating_is_PG-13  \\\n0            1                    0             0                0   \n1            0                    0             1                0   \n2            0                    0             1                0   \n3            1                    0             0                0   \n4            0                    0             0                0   \n\n   rating_is_R  genre_is_Action  ...  genre_is_Musical  \\\n0            0                0  ...                 0   \n1            0                0  ...                 0   \n2            0                0  ...                 0   \n3            0                0  ...                 0   \n4            1                0  ...                 0   \n\n   genre_is_Romantic Comedy  genre_is_Thriller/Suspense  genre_is_Western  \\\n0                         0                           0                 0   \n1                         0                           0                 0   \n2                         0                           0                 0   \n3                         0                           0                 0   \n4                         0                           0                 0   \n\n   month  day  season        budget  runtime  is_animation  \n0      2   16       1  1.652484e+07     82.0           0.0  \n1      3   25       1  0.000000e+00    106.0           0.0  \n2      4    2       2  1.704185e+08     76.0           1.0  \n3     12   25       4  0.000000e+00     49.0           0.0  \n4      6    9       2  3.037941e+07    118.0           0.0  \n\n[5 rows x 27 columns]",
      "text/html": "<div>\n<style scoped>\n    .dataframe tbody tr th:only-of-type {\n        vertical-align: middle;\n    }\n\n    .dataframe tbody tr th {\n        vertical-align: top;\n    }\n\n    .dataframe thead th {\n        text-align: right;\n    }\n</style>\n<table border=\"1\" class=\"dataframe\">\n  <thead>\n    <tr style=\"text-align: right;\">\n      <th></th>\n      <th>name</th>\n      <th>release_date</th>\n      <th>revenue</th>\n      <th>director</th>\n      <th>rating_is_G</th>\n      <th>rating_is_Not Rated</th>\n      <th>rating_is_PG</th>\n      <th>rating_is_PG-13</th>\n      <th>rating_is_R</th>\n      <th>genre_is_Action</th>\n      <th>...</th>\n      <th>genre_is_Musical</th>\n      <th>genre_is_Romantic Comedy</th>\n      <th>genre_is_Thriller/Suspense</th>\n      <th>genre_is_Western</th>\n      <th>month</th>\n      <th>day</th>\n      <th>season</th>\n      <th>budget</th>\n      <th>runtime</th>\n      <th>is_animation</th>\n    </tr>\n  </thead>\n  <tbody>\n    <tr>\n      <th>0</th>\n      <td>Recess: School's Out</td>\n      <td>2001.126027</td>\n      <td>9.031840e+07</td>\n      <td>0.814</td>\n      <td>1</td>\n      <td>0</td>\n      <td>0</td>\n      <td>0</td>\n      <td>0</td>\n      <td>0</td>\n      <td>...</td>\n      <td>0</td>\n      <td>0</td>\n      <td>0</td>\n      <td>0</td>\n      <td>2</td>\n      <td>16</td>\n      <td>1</td>\n      <td>1.652484e+07</td>\n      <td>82.0</td>\n      <td>0.0</td>\n    </tr>\n    <tr>\n      <th>1</th>\n      <td>D2: The Mighty Ducks</td>\n      <td>1994.232877</td>\n      <td>1.860716e+08</td>\n      <td>1.048</td>\n      <td>0</td>\n      <td>0</td>\n      <td>1</td>\n      <td>0</td>\n      <td>0</td>\n      <td>0</td>\n      <td>...</td>\n      <td>0</td>\n      <td>0</td>\n      <td>0</td>\n      <td>0</td>\n      <td>3</td>\n      <td>25</td>\n      <td>1</td>\n      <td>0.000000e+00</td>\n      <td>106.0</td>\n      <td>0.0</td>\n    </tr>\n    <tr>\n      <th>2</th>\n      <td>Home on the Range</td>\n      <td>2004.252055</td>\n      <td>1.052104e+08</td>\n      <td>1.975</td>\n      <td>0</td>\n      <td>0</td>\n      <td>1</td>\n      <td>0</td>\n      <td>0</td>\n      <td>0</td>\n      <td>...</td>\n      <td>0</td>\n      <td>0</td>\n      <td>0</td>\n      <td>0</td>\n      <td>4</td>\n      <td>2</td>\n      <td>2</td>\n      <td>1.704185e+08</td>\n      <td>76.0</td>\n      <td>1.0</td>\n    </tr>\n    <tr>\n      <th>3</th>\n      <td>Young Black Stallion</td>\n      <td>2003.972603</td>\n      <td>1.471919e+07</td>\n      <td>4.610</td>\n      <td>1</td>\n      <td>0</td>\n      <td>0</td>\n      <td>0</td>\n      <td>0</td>\n      <td>0</td>\n      <td>...</td>\n      <td>0</td>\n      <td>0</td>\n      <td>0</td>\n      <td>0</td>\n      <td>12</td>\n      <td>25</td>\n      <td>4</td>\n      <td>0.000000e+00</td>\n      <td>49.0</td>\n      <td>0.0</td>\n    </tr>\n    <tr>\n      <th>4</th>\n      <td>What's Love Got to Do With It</td>\n      <td>1993.435616</td>\n      <td>1.612511e+08</td>\n      <td>0.946</td>\n      <td>0</td>\n      <td>0</td>\n      <td>0</td>\n      <td>0</td>\n      <td>1</td>\n      <td>0</td>\n      <td>...</td>\n      <td>0</td>\n      <td>0</td>\n      <td>0</td>\n      <td>0</td>\n      <td>6</td>\n      <td>9</td>\n      <td>2</td>\n      <td>3.037941e+07</td>\n      <td>118.0</td>\n      <td>0.0</td>\n    </tr>\n  </tbody>\n</table>\n<p>5 rows × 27 columns</p>\n</div>"
     },
     "execution_count": 7,
     "metadata": {},
     "output_type": "execute_result"
    }
   ],
   "source": [
    "# Merge the animation dataset with the main dataset\n",
    "df = pd.merge(df, df_animation, on='name', how='left')\n",
    "\n",
    "# Fill the nulls with 0\n",
    "df['is_animation'] = df['is_animation'].fillna(value=0)\n",
    "\n",
    "df.head()"
   ],
   "metadata": {
    "collapsed": false
   }
  },
  {
   "cell_type": "markdown",
   "source": [
    "##### Saving the preprocessed dataset"
   ],
   "metadata": {
    "collapsed": false
   }
  },
  {
   "cell_type": "code",
   "execution_count": 8,
   "outputs": [],
   "source": [
    "df.to_csv('datasets/1/train/preprocessed_added.csv', index=False)"
   ],
   "metadata": {
    "collapsed": false
   }
  },
  {
   "cell_type": "markdown",
   "source": [
    "##### Fitting the Linear Regression model"
   ],
   "metadata": {
    "collapsed": false
   }
  },
  {
   "cell_type": "code",
   "execution_count": 9,
   "outputs": [
    {
     "name": "stdout",
     "output_type": "stream",
     "text": [
      "release_date                    0\n",
      "revenue                         0\n",
      "director                        0\n",
      "rating_is_G                     0\n",
      "rating_is_Not Rated             0\n",
      "rating_is_PG                    0\n",
      "rating_is_PG-13                 0\n",
      "rating_is_R                     0\n",
      "genre_is_Action                 0\n",
      "genre_is_Adventure              0\n",
      "genre_is_Black Comedy           0\n",
      "genre_is_Comedy                 0\n",
      "genre_is_Concert/Performance    0\n",
      "genre_is_Documentary            0\n",
      "genre_is_Drama                  0\n",
      "genre_is_Horror                 0\n",
      "genre_is_Musical                0\n",
      "genre_is_Romantic Comedy        0\n",
      "genre_is_Thriller/Suspense      0\n",
      "genre_is_Western                0\n",
      "month                           0\n",
      "day                             0\n",
      "season                          0\n",
      "budget                          0\n",
      "runtime                         0\n",
      "is_animation                    0\n",
      "dtype: int64\n",
      "(463, 26)\n",
      "(304, 26)\n"
     ]
    },
    {
     "data": {
      "text/plain": "revenue                         1.000000\nbudget                          0.404898\ndirector                        0.212792\ngenre_is_Adventure              0.202678\ngenre_is_Drama                  0.174183\nmonth                           0.173107\nrating_is_G                     0.157768\nseason                          0.156895\nrating_is_R                     0.132848\nrelease_date                    0.116818\nruntime                         0.106150\nrating_is_PG-13                 0.058739\nrating_is_PG                    0.050063\nday                             0.015025\ngenre_is_Comedy                 0.013137\nrating_is_Not Rated                  NaN\ngenre_is_Action                      NaN\ngenre_is_Black Comedy                NaN\ngenre_is_Concert/Performance         NaN\ngenre_is_Documentary                 NaN\ngenre_is_Horror                      NaN\ngenre_is_Musical                     NaN\ngenre_is_Romantic Comedy             NaN\ngenre_is_Thriller/Suspense           NaN\ngenre_is_Western                     NaN\nis_animation                         NaN\nName: revenue, dtype: float64"
     },
     "execution_count": 9,
     "metadata": {},
     "output_type": "execute_result"
    }
   ],
   "source": [
    "from scipy.stats import stats\n",
    "from sklearn import linear_model\n",
    "from sklearn import metrics\n",
    "from sklearn.model_selection import train_test_split\n",
    "from sklearn.preprocessing import MinMaxScaler\n",
    "import numpy as np\n",
    "\n",
    "df = pd.read_csv('datasets/1/train/preprocessed_added.csv')\n",
    "df = df.drop(['name'], axis=1)\n",
    "\n",
    "df['budget'] = df['budget'].replace(0, df['budget'].median())\n",
    "df['budget'] = df['budget'].fillna(value=df['budget'].median())\n",
    "\n",
    "df['runtime'] = df['runtime'].replace(0, df['runtime'].median())\n",
    "df['runtime'] = df['runtime'].fillna(value=df['runtime'].median())\n",
    "\n",
    "print(df.shape)\n",
    "\n",
    "# drop outliers from the dataset via z score\n",
    "df = df[(np.abs(stats.zscore(df)) < 3).all(axis=1)]\n",
    "\n",
    "print(df.shape)\n",
    "\n",
    "# plot correlation matrix\n",
    "corr = df.corr()\n",
    "\n",
    "# plot correlation with revenue\n",
    "rev_corr = abs(corr['revenue']).sort_values(ascending=False)\n",
    "rev_corr\n"
   ],
   "metadata": {
    "collapsed": false
   }
  },
  {
   "cell_type": "code",
   "execution_count": 5,
   "outputs": [
    {
     "name": "stdout",
     "output_type": "stream",
     "text": [
      "(304, 19)\n",
      "Coefficients: \n",
      " [ 8.14553375e+07  4.32163274e+07 -1.19209290e-07 -2.98023224e-08\n",
      "  4.77783013e+06 -5.96046448e-08  2.98023224e-08  0.00000000e+00\n",
      "  0.00000000e+00  0.00000000e+00  0.00000000e+00  0.00000000e+00\n",
      "  0.00000000e+00  1.19423486e+08 -4.08194348e+07  3.18175758e+08\n",
      " -2.46915983e+07  0.00000000e+00]\n",
      "Mean squared error: 20888175887351192.00\n",
      "Variance score: 0.28\n"
     ]
    }
   ],
   "source": [
    "# drop columns with low correlation\n",
    "df = df.drop(corr[corr['revenue'] < 0.1].index, axis=1)\n",
    "\n",
    "print(df.shape)\n",
    "\n",
    "X = df.drop(['revenue'], axis=1)\n",
    "Y = df['revenue']\n",
    "\n",
    "# Feature Scaling\n",
    "sc = MinMaxScaler()\n",
    "X = sc.fit_transform(X)\n",
    "\n",
    "# Splitting the dataset into the Training set and Test set\n",
    "X_train, X_test, Y_train, Y_test = train_test_split(X, Y, test_size=0.2, random_state=0)\n",
    "\n",
    "# Fitting Multiple Linear Regression to the Training set\n",
    "regressor = linear_model.LinearRegression()\n",
    "regressor.fit(X_train, Y_train)\n",
    "\n",
    "# Predicting the Test set results\n",
    "Y_pred = regressor.predict(X_test)\n",
    "\n",
    "# The coefficients\n",
    "print('Coefficients: \\n', regressor.coef_)\n",
    "# The mean squared error\n",
    "print(\"Mean squared error: %.2f\"\n",
    "      % metrics.mean_squared_error(Y_test, Y_pred))\n",
    "# Explained variance score: 1 is perfect prediction\n",
    "print('Variance score: %.2f' % metrics.r2_score(Y_test, Y_pred))\n"
   ],
   "metadata": {
    "collapsed": false
   }
  },
  {
   "cell_type": "markdown",
   "source": [
    "##### Testing the model"
   ],
   "metadata": {
    "collapsed": false
   }
  },
  {
   "cell_type": "code",
   "execution_count": null,
   "outputs": [],
   "source": [
    "# Loading the test dataset\n",
    "\n",
    "movies_base_test = pd.read_csv('datasets/1/test/movies-revenue.csv')\n",
    "movies_director_test = pd.read_csv('datasets/1/test/movie-director.csv')\n",
    "\n",
    "# Merging the two datasets\n",
    "df_test = pd.merge(movies_base_test, movies_director_test, on='name', how='left')\n",
    "\n",
    "# Preprocessing the test dataset\n",
    "df_test['release_date'] = pd.to_datetime(df_test['release_date'])\n",
    "df_test['release_date'] = df_test['release_date'].apply(date_to_float)\n",
    "df_test['month'] = df_test['release_date'].dt.month\n",
    "df_test['day'] = df_test['release_date'].dt.day\n",
    "df_test['season'] = df_test['release_date'].dt.quarter\n",
    "df_test['release_date'] = df_test['release_date'].apply(date_to_float)\n",
    "df_test = pd.get_dummies(df_test, columns=[\"MPAA_rating\"], prefix=[\"rating_is\"])\n",
    "df_test = pd.get_dummies(df_test, columns=[\"genre\"], prefix=[\"genre_is\"])\n",
    "df_test = pd.merge(df_test, df_animation, on='name', how='left')\n",
    "df_test['is_animation'] = df_test['is_animation'].fillna(value=0)\n",
    "df_test = df_test.drop(['name'], axis=1)\n",
    "\n",
    "df_test = df_test.drop(['revenue'], axis=1)\n",
    "Y_test = df['revenue']\n",
    "\n",
    "# Feature Scaling\n",
    "X_test = sc.transform(df_test)\n",
    "\n",
    "# Predicting the Test set results\n",
    "y_pred = regressor.predict(X_test)\n",
    "\n",
    "# The mean squared error\n",
    "print('Mean squared error: %.2f'\n",
    "      % metrics.mean_squared_error(Y_test, y_pred))\n",
    "# The coefficient of determination: 1 is perfect prediction\n",
    "print('Coefficient of determination: %.2f'\n",
    "      % metrics.r2_score(Y_test, y_pred))\n",
    "\n"
   ],
   "metadata": {
    "collapsed": false
   }
  },
  {
   "cell_type": "markdown",
   "source": [],
   "metadata": {
    "collapsed": false
   }
  }
 ],
 "metadata": {
  "kernelspec": {
   "display_name": "Python 3",
   "language": "python",
   "name": "python3"
  },
  "language_info": {
   "codemirror_mode": {
    "name": "ipython",
    "version": 2
   },
   "file_extension": ".py",
   "mimetype": "text/x-python",
   "name": "python",
   "nbconvert_exporter": "python",
   "pygments_lexer": "ipython2",
   "version": "2.7.6"
  }
 },
 "nbformat": 4,
 "nbformat_minor": 0
}
